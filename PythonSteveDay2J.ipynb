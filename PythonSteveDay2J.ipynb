{
 "cells": [
  {
   "cell_type": "markdown",
   "metadata": {},
   "source": [
    "# Module_07_程式的流程控制-條件判斷 if...else"
   ]
  },
  {
   "cell_type": "markdown",
   "metadata": {},
   "source": [
    "# 7-3"
   ]
  },
  {
   "cell_type": "code",
   "execution_count": 9,
   "metadata": {},
   "outputs": [
    {
     "name": "stdout",
     "output_type": "stream",
     "text": [
      "Result\t: 3\n",
      "Result\t: 10\n",
      "Result\t:10\n"
     ]
    }
   ],
   "source": [
    "x = 3; y = 7; print('Result\\t:', x)  #可以這樣寫用分號隔開\n",
    "print('Result\\t:', x+y)  # , is space\n",
    "print('Result\\t:'+str(x+y))\n",
    "# try f-string"
   ]
  },
  {
   "cell_type": "code",
   "execution_count": 10,
   "metadata": {},
   "outputs": [
    {
     "name": "stdout",
     "output_type": "stream",
     "text": [
      "x != 3\n"
     ]
    }
   ],
   "source": [
    "x = 4\n",
    "if x == 3:\n",
    "    print ('x = 3')\n",
    "else :\n",
    "    print ('x != 3')"
   ]
  },
  {
   "cell_type": "markdown",
   "metadata": {},
   "source": [
    "# 7-4"
   ]
  },
  {
   "cell_type": "code",
   "execution_count": 11,
   "metadata": {},
   "outputs": [
    {
     "data": {
      "text/plain": [
       "50"
      ]
     },
     "execution_count": 11,
     "metadata": {},
     "output_type": "execute_result"
    }
   ],
   "source": [
    "total = 11+ \\\n",
    "12 + \\\n",
    "13 + \\\n",
    "14\n",
    "total"
   ]
  },
  {
   "cell_type": "code",
   "execution_count": 12,
   "metadata": {},
   "outputs": [],
   "source": [
    "days =['Sun', 'Mon', 'Tue',\n",
    "      'Wed', 'Thu', 'Fri', 'Sat']\n",
    "# try {}, ()"
   ]
  },
  {
   "cell_type": "markdown",
   "metadata": {},
   "source": [
    "# 7-5 comments"
   ]
  },
  {
   "cell_type": "code",
   "execution_count": 13,
   "metadata": {},
   "outputs": [],
   "source": [
    "# #真正的備註\n",
    "# this is python\n",
    "# hello python\n",
    "# no any evaluate"
   ]
  },
  {
   "cell_type": "code",
   "execution_count": 14,
   "metadata": {},
   "outputs": [
    {
     "data": {
      "text/plain": [
       "'\\nthis is python\\nhello python\\n'"
      ]
     },
     "execution_count": 14,
     "metadata": {},
     "output_type": "execute_result"
    }
   ],
   "source": [
    "# document String\n",
    "'''\n",
    "this is python\n",
    "hello python\n",
    "'''\n",
    "# still evaluate.  It is not a comment.   slow down your program"
   ]
  },
  {
   "cell_type": "markdown",
   "metadata": {},
   "source": [
    "# 7-7"
   ]
  },
  {
   "cell_type": "code",
   "execution_count": 15,
   "metadata": {},
   "outputs": [
    {
     "name": "stdout",
     "output_type": "stream",
     "text": [
      "True expr 1 :  100\n",
      "Finished!\n"
     ]
    }
   ],
   "source": [
    "var1 = 100 \n",
    "if var1: \n",
    "    print('True expr 1 : ', var1) \n",
    "#     謹記 非0即true\n",
    "# -------------------------------    \n",
    "var2 = 0 \n",
    "if var2: \n",
    "    print('True expr 2 : ', var2) \n",
    "    \n",
    "print('Finished!')"
   ]
  },
  {
   "cell_type": "markdown",
   "metadata": {},
   "source": [
    "# 7-9"
   ]
  },
  {
   "cell_type": "code",
   "execution_count": null,
   "metadata": {},
   "outputs": [],
   "source": [
    "# %run mod07/ifstmt2.py\n",
    "# if-else stmt\n",
    "s = int(input('Input score: '))\n",
    "\n",
    "if s >= 60:\n",
    "    print(\"Pass!\")\n",
    "else:\n",
    "    print(\"Not pass!\")"
   ]
  },
  {
   "cell_type": "code",
   "execution_count": 16,
   "metadata": {},
   "outputs": [
    {
     "name": "stdout",
     "output_type": "stream",
     "text": [
      "a is 1\n",
      "a is a number\n"
     ]
    }
   ],
   "source": [
    "a = 1\n",
    "if a==1:\n",
    "    print('a is 1')\n",
    "print('a is a number')  # 這個 print在 if 之外\n",
    "# if判斷是要加冒號:\n",
    "# 沒有else就會直接跑下面的print"
   ]
  },
  {
   "cell_type": "markdown",
   "metadata": {},
   "source": [
    "# 7-10"
   ]
  },
  {
   "cell_type": "code",
   "execution_count": 1,
   "metadata": {
    "scrolled": true
   },
   "outputs": [
    {
     "name": "stdout",
     "output_type": "stream",
     "text": [
      "lst\t\t\t=  []\n",
      "False == bool(lst))\t: True\n",
      "False == bool(None)\t: True\n",
      "False == 0\t\t: True\n"
     ]
    }
   ],
   "source": [
    "lst = [11, 22]\n",
    "lst.clear()\n",
    "# 變成空陣列=0 加上布林判斷即False\n",
    "print('lst\\t\\t\\t= ', lst)  # empty list\n",
    "print('False == bool(lst))\\t:', False == bool(lst))\n",
    "print('False == bool(None)\\t:', False == bool(None))\n",
    "print('False == 0\\t\\t:', False == 0)"
   ]
  },
  {
   "cell_type": "code",
   "execution_count": 2,
   "metadata": {
    "scrolled": true
   },
   "outputs": [
    {
     "name": "stdout",
     "output_type": "stream",
     "text": [
      "False == 0.0\t\t: True\n",
      "False == bool(())\t: True\n",
      "False == bool({})\t: True\n"
     ]
    }
   ],
   "source": [
    "print('False == 0.0\\t\\t:', False == 0.0)\n",
    "print('False == bool(())\\t:', False == bool(()))  # empty tuple\n",
    "print('False == bool({})\\t:', False == bool({}))  # emply dictionary\n",
    "# 重要"
   ]
  },
  {
   "cell_type": "markdown",
   "metadata": {},
   "source": [
    "# 7-12"
   ]
  },
  {
   "cell_type": "code",
   "execution_count": 3,
   "metadata": {},
   "outputs": [
    {
     "name": "stdout",
     "output_type": "stream",
     "text": [
      "Discount 200.0\n"
     ]
    }
   ],
   "source": [
    "amt = 2000\n",
    "if amt < 1000:\n",
    "    discount = amt * 0.05\n",
    "    print('Discount', discount)\n",
    "else:\n",
    "    discount = amt * 0.10\n",
    "    print('Discount', discount)"
   ]
  },
  {
   "cell_type": "markdown",
   "metadata": {},
   "source": [
    "# 7-14"
   ]
  },
  {
   "cell_type": "code",
   "execution_count": null,
   "metadata": {},
   "outputs": [],
   "source": [
    "amt = int(input('Enter amount: '))\n",
    "\n",
    "if amt < 1000:\n",
    "    discount = amt * 0.05\n",
    "    print('Discount:', discount)\n",
    "elif amt < 5000:\n",
    "    discount = amt * 0.10\n",
    "    print('Discount:', discount)\n",
    "else:\n",
    "    discount = amt * 0.15\n",
    "    print('Discount:', discount)\n",
    "\n",
    "print('Net price:', amt - discount)"
   ]
  },
  {
   "cell_type": "markdown",
   "metadata": {},
   "source": [
    "# 7-16"
   ]
  },
  {
   "cell_type": "code",
   "execution_count": null,
   "metadata": {},
   "outputs": [],
   "source": [
    "num = int(input('enter number'))\n",
    "if num%2 == 0:\n",
    "    if num%3 == 0:\n",
    "        print('Divisible by 3 and 2')\n",
    "    else:\n",
    "        print('Divisible by 2, not divisible by 3')\n",
    "else:\n",
    "    if num%3 == 0:\n",
    "        print('Divisible by 3, not divisible by 2')\n",
    "    else:\n",
    "        print('Not Divisible by 2, not divisible by 3')"
   ]
  },
  {
   "cell_type": "markdown",
   "metadata": {},
   "source": [
    "# 7-17"
   ]
  },
  {
   "cell_type": "code",
   "execution_count": 1,
   "metadata": {},
   "outputs": [
    {
     "name": "stdout",
     "output_type": "stream",
     "text": [
      "Finished!\n"
     ]
    }
   ],
   "source": [
    "var = 30\n",
    "# Only one statement\n",
    "if var==50: print('Value is 50')\n",
    "if var==40: print('Value is 40')\n",
    "print('Finished!')"
   ]
  },
  {
   "cell_type": "code",
   "execution_count": 2,
   "metadata": {},
   "outputs": [
    {
     "data": {
      "text/plain": [
       "'Hello'"
      ]
     },
     "execution_count": 2,
     "metadata": {},
     "output_type": "execute_result"
    }
   ],
   "source": [
    "a = 2\n",
    "#if a%3==0: Result = True\n",
    "#else: Result = False\n",
    "Result = 3 if a%3==0 else \"Hello\"\n",
    "Result"
   ]
  },
  {
   "cell_type": "code",
   "execution_count": 3,
   "metadata": {},
   "outputs": [
    {
     "name": "stdout",
     "output_type": "stream",
     "text": [
      "Apple\n"
     ]
    }
   ],
   "source": [
    "a=9\n",
    "if a%2:     # 9%2 = 1, True\n",
    "    print('Apple') \n",
    "else: \n",
    "    print('False')\n",
    "\n",
    "# practice print.....if   else pr...."
   ]
  },
  {
   "cell_type": "code",
   "execution_count": null,
   "metadata": {},
   "outputs": [],
   "source": [
    "x = int(input('x:')) ; y = int(input('y:')); z = int(input('z:'))\n",
    "print('The largest of the number is ', end='')\n",
    "if x>y :\n",
    "    if x>z:\n",
    "        print(x)\n",
    "    else:\n",
    "        print(z)\n",
    "else:                # y > x\n",
    "    if y>z:\n",
    "        print(y)\n",
    "    else:\n",
    "        print(z)\n",
    "        \n",
    "print(max([x, y, z]))"
   ]
  },
  {
   "cell_type": "markdown",
   "metadata": {},
   "source": [
    "# 7-19"
   ]
  },
  {
   "cell_type": "code",
   "execution_count": 1,
   "metadata": {},
   "outputs": [],
   "source": [
    "x = 7\n",
    "if x == 7:\n",
    "    y = 3\n",
    "else:\n",
    "    y = 5"
   ]
  },
  {
   "cell_type": "code",
   "execution_count": 2,
   "metadata": {},
   "outputs": [],
   "source": [
    "x = 7\n",
    "if x == 7: y = 3\n",
    "else: y=5"
   ]
  },
  {
   "cell_type": "code",
   "execution_count": 3,
   "metadata": {},
   "outputs": [
    {
     "data": {
      "text/plain": [
       "3"
      ]
     },
     "execution_count": 3,
     "metadata": {},
     "output_type": "execute_result"
    }
   ],
   "source": [
    "# 取代簡單的 if...else\n",
    "x = 7\n",
    "y = 3 if x == 7 else 5\n",
    "y"
   ]
  },
  {
   "cell_type": "code",
   "execution_count": 3,
   "metadata": {},
   "outputs": [
    {
     "name": "stdout",
     "output_type": "stream",
     "text": [
      "66.1 ns ± 6.97 ns per loop (mean ± std. dev. of 7 runs, 10000000 loops each)\n"
     ]
    }
   ],
   "source": [
    "%%timeit\n",
    "x = 5\n",
    "if x%2 == 0:\n",
    "    y = 1\n",
    "else:\n",
    "    y = 50\n",
    "#     多一個運算元 速度變比較慢"
   ]
  },
  {
   "cell_type": "code",
   "execution_count": 2,
   "metadata": {},
   "outputs": [
    {
     "name": "stdout",
     "output_type": "stream",
     "text": [
      "54 ns ± 13.1 ns per loop (mean ± std. dev. of 7 runs, 10000000 loops each)\n"
     ]
    }
   ],
   "source": [
    "%%timeit\n",
    "x = 5\n",
    "if not x%2:\n",
    "    y = 1\n",
    "else:\n",
    "    y = 50"
   ]
  },
  {
   "cell_type": "markdown",
   "metadata": {},
   "source": [
    "---"
   ]
  },
  {
   "cell_type": "markdown",
   "metadata": {},
   "source": [
    "# Module_08_程式的流程控制-迴圈 while ,  for... range"
   ]
  },
  {
   "cell_type": "markdown",
   "metadata": {},
   "source": [
    "## 8-4"
   ]
  },
  {
   "cell_type": "code",
   "execution_count": 4,
   "metadata": {},
   "outputs": [
    {
     "name": "stdout",
     "output_type": "stream",
     "text": [
      "Finished!\n"
     ]
    }
   ],
   "source": [
    "count = 0\n",
    "while count < 9:\n",
    "#    print('count is:', count)\n",
    "    count += 1\n",
    "print('Finished!')"
   ]
  },
  {
   "cell_type": "code",
   "execution_count": 5,
   "metadata": {},
   "outputs": [
    {
     "name": "stdin",
     "output_type": "stream",
     "text": [
      "Input factorial: 55\n"
     ]
    },
    {
     "name": "stdout",
     "output_type": "stream",
     "text": [
      "55! = 12696403353658275925965100847566516959580321051449436762275840000000000000\n",
      "55! = 12696403353658275925965100847566516959580321051449436762275840000000000000\n"
     ]
    }
   ],
   "source": [
    "# %run mod08/whilestmt1.py\n",
    "# while stmt\n",
    "\n",
    "m = int(input('Input factorial:'))\n",
    "r = n = 1\n",
    "\n",
    "while n <= m:\n",
    "    r *= n  # r = r * n\n",
    "    n += 1\n",
    "print(str(m) + '! =', r)\n",
    "\n",
    "# or\n",
    "\n",
    "r = n = 1\n",
    "for n in range(1, m+1):  # iteration iteration #  迭代 : 重複的意思\n",
    "    r*=n\n",
    "print(str(m) + '! =', r)"
   ]
  },
  {
   "cell_type": "code",
   "execution_count": 6,
   "metadata": {},
   "outputs": [
    {
     "name": "stdin",
     "output_type": "stream",
     "text": [
      "輸入提款金額  : 200\n"
     ]
    },
    {
     "name": "stdout",
     "output_type": "stream",
     "text": [
      "輸入密碼\n"
     ]
    }
   ],
   "source": [
    "# 比如說提款機\n",
    "\n",
    "num = 1\n",
    "while num==1  :         # This constructs an infinite loop\n",
    "    cash = int(input(\"輸入提款金額  :\"))\n",
    "    if 0<cash <30000:\n",
    "        break\n",
    "    \n",
    "print (\"輸入密碼\")"
   ]
  },
  {
   "cell_type": "code",
   "execution_count": 7,
   "metadata": {},
   "outputs": [
    {
     "name": "stdin",
     "output_type": "stream",
     "text": [
      "你猜，我是 python / java / C++ ??  python\n"
     ]
    },
    {
     "name": "stdout",
     "output_type": "stream",
     "text": [
      "好，答對了！\n"
     ]
    }
   ],
   "source": [
    "while True:\n",
    "    user = input('你猜，我是 python / java / C++ ?? ')\n",
    "    if user == 'python':\n",
    "        break\n",
    "    print(user, '錯')\n",
    "print('好，答對了！')\n",
    "# 如果答錯就不會跳出迴圈,回到第一行"
   ]
  },
  {
   "cell_type": "markdown",
   "metadata": {},
   "source": [
    ">><img src=\".\\img\\break.jpg\"  style='height:300px; width:550px'>\n",
    ">><img src=\".\\img\\continue.jpg\"  style='height:300px; width:550px'>"
   ]
  },
  {
   "cell_type": "code",
   "execution_count": 8,
   "metadata": {},
   "outputs": [
    {
     "name": "stdout",
     "output_type": "stream",
     "text": [
      "84\n"
     ]
    }
   ],
   "source": [
    "# 年利率5%，則每個月的利率為5%/12=0.4167%\n",
    "# 1萬元放在銀行，本金加利率總額為 10000*(1+0.05/12)=10041.67元\n",
    "total=0\n",
    "i=0\n",
    "# while loop ...\n",
    "while (total<1000000):\n",
    "    total *= (1+0.05/12)\n",
    "    total += 10000\n",
    "    i += 1\n",
    "print(i)"
   ]
  },
  {
   "cell_type": "code",
   "execution_count": 17,
   "metadata": {},
   "outputs": [
    {
     "name": "stdout",
     "output_type": "stream",
     "text": [
      "1\n",
      "2\n",
      "3\n",
      "4\n",
      "5\n"
     ]
    }
   ],
   "source": [
    "for var in [1, 2, 3, 4, 5]:\n",
    "    print(var)"
   ]
  },
  {
   "cell_type": "markdown",
   "metadata": {},
   "source": [
    "# 8-7"
   ]
  },
  {
   "cell_type": "code",
   "execution_count": 18,
   "metadata": {},
   "outputs": [
    {
     "name": "stdout",
     "output_type": "stream",
     "text": [
      "1 2 3 4 5 6 7 8 9 \n",
      "2 4 6 8 10 12 14 16 18 \n",
      "3 6 9 12 15 18 21 24 27 \n",
      "4 8 12 16 20 24 28 32 36 \n",
      "5 10 15 20 25 30 35 40 45 \n",
      "6 12 18 24 30 36 42 48 54 \n",
      "7 14 21 28 35 42 49 56 63 \n",
      "8 16 24 32 40 48 56 64 72 \n",
      "9 18 27 36 45 54 63 72 81 \n"
     ]
    }
   ],
   "source": [
    "for i in range(1,10):\n",
    "    for j in range(1,10):\n",
    "        x = i * j\n",
    "        print(x, end=' ')\n",
    "    print()"
   ]
  },
  {
   "cell_type": "code",
   "execution_count": 31,
   "metadata": {},
   "outputs": [
    {
     "name": "stdout",
     "output_type": "stream",
     "text": [
      "1 * 1 =  1,  1 * 2 =  2,  1 * 3 =  3,  1 * 4 =  4,  1 * 5 =  5,  1 * 6 =  6,  1 * 7 =  7,  1 * 8 =  8,  1 * 9 =  9,  \n",
      "2 * 1 =  2,  2 * 2 =  4,  2 * 3 =  6,  2 * 4 =  8,  2 * 5 = 10,  2 * 6 = 12,  2 * 7 = 14,  2 * 8 = 16,  2 * 9 = 18,  \n",
      "3 * 1 =  3,  3 * 2 =  6,  3 * 3 =  9,  3 * 4 = 12,  3 * 5 = 15,  3 * 6 = 18,  3 * 7 = 21,  3 * 8 = 24,  3 * 9 = 27,  \n",
      "4 * 1 =  4,  4 * 2 =  8,  4 * 3 = 12,  4 * 4 = 16,  4 * 5 = 20,  4 * 6 = 24,  4 * 7 = 28,  4 * 8 = 32,  4 * 9 = 36,  \n",
      "5 * 1 =  5,  5 * 2 = 10,  5 * 3 = 15,  5 * 4 = 20,  5 * 5 = 25,  5 * 6 = 30,  5 * 7 = 35,  5 * 8 = 40,  5 * 9 = 45,  \n",
      "6 * 1 =  6,  6 * 2 = 12,  6 * 3 = 18,  6 * 4 = 24,  6 * 5 = 30,  6 * 6 = 36,  6 * 7 = 42,  6 * 8 = 48,  6 * 9 = 54,  \n",
      "7 * 1 =  7,  7 * 2 = 14,  7 * 3 = 21,  7 * 4 = 28,  7 * 5 = 35,  7 * 6 = 42,  7 * 7 = 49,  7 * 8 = 56,  7 * 9 = 63,  \n",
      "8 * 1 =  8,  8 * 2 = 16,  8 * 3 = 24,  8 * 4 = 32,  8 * 5 = 40,  8 * 6 = 48,  8 * 7 = 56,  8 * 8 = 64,  8 * 9 = 72,  \n",
      "9 * 1 =  9,  9 * 2 = 18,  9 * 3 = 27,  9 * 4 = 36,  9 * 5 = 45,  9 * 6 = 54,  9 * 7 = 63,  9 * 8 = 72,  9 * 9 = 81,  \n"
     ]
    }
   ],
   "source": [
    "for i in range(1,10):\n",
    "    for j in range(1,10):\n",
    "        print(f'{i:1d} * {j:1d} = {i*j:2d}', end=',  ')\n",
    "    print()\n",
    "#     f'顯示文字 {顯示代數} 1d=1 digit'"
   ]
  },
  {
   "cell_type": "markdown",
   "metadata": {},
   "source": [
    "# 8-8 range()"
   ]
  },
  {
   "cell_type": "code",
   "execution_count": 20,
   "metadata": {},
   "outputs": [
    {
     "data": {
      "text/plain": [
       "range(1, 6)"
      ]
     },
     "execution_count": 20,
     "metadata": {},
     "output_type": "execute_result"
    }
   ],
   "source": [
    "# lazy evaluation\n",
    "range(1,6)  # get ready, not execute"
   ]
  },
  {
   "cell_type": "code",
   "execution_count": 21,
   "metadata": {},
   "outputs": [
    {
     "name": "stdout",
     "output_type": "stream",
     "text": [
      "1\n",
      "2\n",
      "3\n",
      "4\n",
      "5\n",
      "6\n",
      "7\n",
      "8\n",
      "9\n"
     ]
    }
   ],
   "source": [
    "for i in range(1,10):\n",
    "    print(i)\n",
    "#     python裡都不包含後面的數(1,10)=(1~9)"
   ]
  },
  {
   "cell_type": "code",
   "execution_count": 22,
   "metadata": {},
   "outputs": [
    {
     "data": {
      "text/plain": [
       "[1, 2, 3, 4, 5]"
      ]
     },
     "execution_count": 22,
     "metadata": {},
     "output_type": "execute_result"
    }
   ],
   "source": [
    "list(range(1,6))  # execute"
   ]
  },
  {
   "cell_type": "code",
   "execution_count": 23,
   "metadata": {},
   "outputs": [
    {
     "data": {
      "text/plain": [
       "(1, 2, 3, 4, 5)"
      ]
     },
     "execution_count": 23,
     "metadata": {},
     "output_type": "execute_result"
    }
   ],
   "source": [
    "tuple(range(1,6))  # execute"
   ]
  },
  {
   "cell_type": "code",
   "execution_count": 24,
   "metadata": {},
   "outputs": [
    {
     "data": {
      "text/plain": [
       "{1, 2, 3, 4, 5}"
      ]
     },
     "execution_count": 24,
     "metadata": {},
     "output_type": "execute_result"
    }
   ],
   "source": [
    "set(range(1,6)) # execute"
   ]
  },
  {
   "cell_type": "code",
   "execution_count": 25,
   "metadata": {},
   "outputs": [
    {
     "data": {
      "text/plain": [
       "[1, 3, 5, 7, 9, 11, 13]"
      ]
     },
     "execution_count": 25,
     "metadata": {},
     "output_type": "execute_result"
    }
   ],
   "source": [
    "list(range(1, 15, 2))  # how about range (a,d)"
   ]
  },
  {
   "cell_type": "markdown",
   "metadata": {},
   "source": [
    "## p8-10, 11, 12, 14"
   ]
  },
  {
   "cell_type": "code",
   "execution_count": 26,
   "metadata": {},
   "outputs": [
    {
     "name": "stdout",
     "output_type": "stream",
     "text": [
      "有 偶數存在 22\n"
     ]
    }
   ],
   "source": [
    "numbers = [31, 57, 75, 85, 27, 93, 63, 19, 22, 44]\n",
    "for num in numbers:\n",
    "    if num%2 == 0:\n",
    "        print('有 偶數存在', num)\n",
    "        break\n",
    "else:\n",
    "    print('無 偶數存在')"
   ]
  },
  {
   "cell_type": "code",
   "execution_count": 27,
   "metadata": {},
   "outputs": [
    {
     "name": "stdout",
     "output_type": "stream",
     "text": [
      "['odd', 'odd', 'odd', 'odd', 'odd', 'odd', 'odd', 'odd', 'even', 'even']\n",
      "['even', 'even']\n"
     ]
    }
   ],
   "source": [
    "x = ['even' if num%2==0 else 'odd' for num in numbers]\n",
    "print(x)\n",
    "\n",
    "y = ['even' for num in numbers if num%2==0]\n",
    "print(y)"
   ]
  },
  {
   "cell_type": "code",
   "execution_count": 28,
   "metadata": {
    "scrolled": true
   },
   "outputs": [
    {
     "name": "stdout",
     "output_type": "stream",
     "text": [
      "1, 2, 3, 4, 5, "
     ]
    }
   ],
   "source": [
    "# %run mod08/whilestmt2.py\n",
    "# whie with break stmt\n",
    "i = 1\n",
    "while True:\n",
    "    print(i, end=', ')\n",
    "    i += 1\n",
    "    if i > 5:\n",
    "        break"
   ]
  },
  {
   "cell_type": "code",
   "execution_count": 29,
   "metadata": {},
   "outputs": [
    {
     "data": {
      "text/plain": [
       "15"
      ]
     },
     "execution_count": 29,
     "metadata": {},
     "output_type": "execute_result"
    }
   ],
   "source": [
    "total = 0 \n",
    "\n",
    "for i in range(1,6):\n",
    "    total+=i\n",
    "total"
   ]
  },
  {
   "cell_type": "markdown",
   "metadata": {},
   "source": [
    "---"
   ]
  },
  {
   "cell_type": "markdown",
   "metadata": {},
   "source": [
    "# Module_09_串列(List)\n",
    "# index\n",
    "><img src=\".\\img\\list.png\"  style='height:250px; width:650px'>"
   ]
  },
  {
   "cell_type": "code",
   "execution_count": 32,
   "metadata": {},
   "outputs": [
    {
     "name": "stdout",
     "output_type": "stream",
     "text": [
      "['a', 'b', 'c', 'd']\n",
      "['a', 'b', 'c', 'd']\n"
     ]
    },
    {
     "data": {
      "text/plain": [
       "['a', 'b', 'c', 'd']"
      ]
     },
     "execution_count": 32,
     "metadata": {},
     "output_type": "execute_result"
    }
   ],
   "source": [
    "list1=['a', 'b', 'c', 'd']\n",
    "print(list1)\n",
    "\n",
    "list2='a b c d'.split()\n",
    "print(list2)\n",
    "\n",
    "list('abcd') #宣告為list 必變成[]"
   ]
  },
  {
   "cell_type": "code",
   "execution_count": 33,
   "metadata": {},
   "outputs": [
    {
     "name": "stdout",
     "output_type": "stream",
     "text": [
      "names\t\t\t\t= ['fraser', 'grace', 'john', 'jess', 'jack', 23.5, 2019]\n",
      "names[0]\t\t\t: fraser\n",
      "names[0][0]\t\t\t: f \n",
      "\n",
      "names[5]\t\t\t: 23.5\n",
      "names[-1]\t\t\t: 2019 \n",
      "\n",
      "names[1:5]\t\t\t: ['grace', 'john', 'jess', 'jack']\n",
      "names[1:6:2]\t\t\t: ['grace', 'jess', 23.5]\n",
      "names[2]='Kevin'\t\t: ['fraser', 'grace', 'Kevin', 'jess', 'jack', 23.5, 2019]\n",
      "names[-1:]=[2000, 23.5]\t\t: ['fraser', 'grace', 'Kevin', 'jess', 'jack', 23.5, 2000, 23.5]\n"
     ]
    }
   ],
   "source": [
    "names=['fraser', 'grace', 'john', 'jess', 'jack', 23.5, 2019]\n",
    "print('names\\t\\t\\t\\t=', names)\n",
    "print('names[0]\\t\\t\\t:', names[0])\n",
    "print('names[0][0]\\t\\t\\t:', names[0][0], '\\n') #該物件的[0]\n",
    "\n",
    "print('names[5]\\t\\t\\t:', names[5])\n",
    "print('names[-1]\\t\\t\\t:', names[-1],'\\n') \n",
    "\n",
    "print('names[1:5]\\t\\t\\t:', names[1:5])\n",
    "print('names[1:6:2]\\t\\t\\t:', (names[1:6:2]))\n",
    "\n",
    "names[2]='Kevin'\n",
    "print(\"names[2]='Kevin'\\t\\t:\", names)         # 修改\n",
    "\n",
    "names[-1:]=[2000, 23.5]                           # 一次改兩筆資料\n",
    "print('names[-1:]=[2000, 23.5]\\t\\t:', names)"
   ]
  },
  {
   "cell_type": "code",
   "execution_count": 34,
   "metadata": {},
   "outputs": [
    {
     "data": {
      "text/plain": [
       "['He', 'saw', 'six', 'small', 'foxes']"
      ]
     },
     "execution_count": 34,
     "metadata": {},
     "output_type": "execute_result"
    }
   ],
   "source": [
    "b = ['saw', 'small', 'He', 'foxes', 'six']\n",
    "b.sort(key=len)  # length 用字長從少到多去排序\n",
    "b"
   ]
  },
  {
   "cell_type": "markdown",
   "metadata": {},
   "source": [
    "# 9-6"
   ]
  },
  {
   "cell_type": "code",
   "execution_count": 35,
   "metadata": {},
   "outputs": [
    {
     "name": "stdout",
     "output_type": "stream",
     "text": [
      "4\n",
      "33\n",
      "[11, 12, 13]\n",
      "13\n"
     ]
    }
   ],
   "source": [
    "lst = [33, 'python', [11, 12, 13], 77]\n",
    "print(len(lst))\n",
    "print(lst[0])\n",
    "print(lst[2])\n",
    "print(lst[2][2])"
   ]
  },
  {
   "cell_type": "markdown",
   "metadata": {},
   "source": [
    ">![listNested](.\\img\\listNested.png)"
   ]
  },
  {
   "cell_type": "code",
   "execution_count": 36,
   "metadata": {},
   "outputs": [
    {
     "data": {
      "text/plain": [
       "True"
      ]
     },
     "execution_count": 36,
     "metadata": {},
     "output_type": "execute_result"
    }
   ],
   "source": [
    "lst1 = [10,20,30]\n",
    "lst2 = [10,20,30]\n",
    "lst3 = [10,30,20]\n",
    "lst1 == lst2"
   ]
  },
  {
   "cell_type": "code",
   "execution_count": 37,
   "metadata": {},
   "outputs": [
    {
     "data": {
      "text/plain": [
       "False"
      ]
     },
     "execution_count": 37,
     "metadata": {},
     "output_type": "execute_result"
    }
   ],
   "source": [
    "lst1 == lst3  #順序需一致"
   ]
  },
  {
   "cell_type": "code",
   "execution_count": 38,
   "metadata": {},
   "outputs": [
    {
     "name": "stdout",
     "output_type": "stream",
     "text": [
      "False\n",
      "1306443083968 1306442541696\n"
     ]
    }
   ],
   "source": [
    "print(lst1 is lst2)   # 可能False,  True (機率很低很低) 數值雖然想同, 但記憶體位置可能不同\n",
    "print(id(lst1), id(lst2))"
   ]
  },
  {
   "cell_type": "code",
   "execution_count": 39,
   "metadata": {},
   "outputs": [
    {
     "data": {
      "text/plain": [
       "False"
      ]
     },
     "execution_count": 39,
     "metadata": {},
     "output_type": "execute_result"
    }
   ],
   "source": [
    "lst1 is lst3"
   ]
  },
  {
   "cell_type": "markdown",
   "metadata": {},
   "source": [
    "# 9-8"
   ]
  },
  {
   "cell_type": "code",
   "execution_count": 40,
   "metadata": {},
   "outputs": [
    {
     "data": {
      "text/plain": [
       "[1, 2, 3, 4, 5, 6]"
      ]
     },
     "execution_count": 40,
     "metadata": {},
     "output_type": "execute_result"
    }
   ],
   "source": [
    "[1, 2, 3] + [4, 5, 6]"
   ]
  },
  {
   "cell_type": "code",
   "execution_count": 41,
   "metadata": {},
   "outputs": [
    {
     "data": {
      "text/plain": [
       "['Hi!', 'Hi!', 'Hi!', 'Hi!']"
      ]
     },
     "execution_count": 41,
     "metadata": {},
     "output_type": "execute_result"
    }
   ],
   "source": [
    "['Hi!'] * 4"
   ]
  },
  {
   "cell_type": "code",
   "execution_count": 42,
   "metadata": {},
   "outputs": [
    {
     "data": {
      "text/plain": [
       "True"
      ]
     },
     "execution_count": 42,
     "metadata": {},
     "output_type": "execute_result"
    }
   ],
   "source": [
    "30 in [10, 20, 30]"
   ]
  },
  {
   "cell_type": "code",
   "execution_count": 43,
   "metadata": {},
   "outputs": [
    {
     "name": "stdout",
     "output_type": "stream",
     "text": [
      "10 20 30 \n",
      "10 20 30 "
     ]
    }
   ],
   "source": [
    "a = [10, 20, 30]\n",
    "for x in a: \n",
    "    print (x, end = ' ')\n",
    "\n",
    "print()\n",
    "for i in range(len(a)): \n",
    "    print (a[i], end = ' ')"
   ]
  },
  {
   "cell_type": "markdown",
   "metadata": {},
   "source": [
    "# 9-11"
   ]
  },
  {
   "cell_type": "code",
   "execution_count": 44,
   "metadata": {},
   "outputs": [
    {
     "name": "stdout",
     "output_type": "stream",
     "text": [
      "lst\t\t\t\t=  [20, 10, 30]\n",
      "max(lst)\t\t\t: 30\n",
      "min(lst)\t\t\t: 10\n",
      "sum(lst)\t\t\t: 60\n",
      "sorted(lst)\t\t\t: [10, 20, 30]\n",
      "sorted(lst, reverse=True)\t: [30, 20, 10]\n"
     ]
    }
   ],
   "source": [
    "x, y, z=20, 10, 30\n",
    "lst=[x, y, z]\n",
    "\n",
    "print('lst\\t\\t\\t\\t= ', lst)\n",
    "print('max(lst)\\t\\t\\t:', max(lst))\n",
    "print('min(lst)\\t\\t\\t:', min(lst))\n",
    "print('sum(lst)\\t\\t\\t:', sum(lst))\n",
    "print('sorted(lst)\\t\\t\\t:', sorted(lst))\n",
    "print('sorted(lst, reverse=True)\\t:', sorted(lst, reverse=True))"
   ]
  },
  {
   "cell_type": "code",
   "execution_count": 45,
   "metadata": {},
   "outputs": [
    {
     "name": "stdout",
     "output_type": "stream",
     "text": [
      "lst\t\t\t= [11, 22, 33, 44]\n",
      "id(lst)\t\t\t: 1306442549632 \n",
      "\n",
      "lst[2] = 66\t\t: [11, 22, 66, 44] \n",
      "\n",
      "lst[2:]=['aaa','bbb']\t: [11, 22, 'aaa', 'bbb'] \n",
      "\n",
      "lst[2:] =\t\t: [11, 22, 333, 444, 555, 666]\n",
      "id(lst)\t\t\t: 1306442549632 \n",
      "\n"
     ]
    }
   ],
   "source": [
    "lst=[11, 22, 33, 44]\n",
    "print('lst\\t\\t\\t=', lst)\n",
    "print('id(lst)\\t\\t\\t:', id(lst), '\\n')\n",
    "\n",
    "lst[2] = 66\n",
    "print('lst[2] = 66\\t\\t:', lst, '\\n')\n",
    "\n",
    "lst[2:]=['aaa','bbb']\n",
    "print(\"lst[2:]=['aaa','bbb']\\t:\",lst,'\\n') #更改第二個值\n",
    "\n",
    "lst[2:]=[333,444,555,666]  #list 可增加直接擴大\n",
    "print('lst[2:] =\\t\\t:', lst)\n",
    "print('id(lst)\\t\\t\\t:', id(lst), '\\n')　#做任何更動id不變"
   ]
  },
  {
   "cell_type": "code",
   "execution_count": 46,
   "metadata": {},
   "outputs": [
    {
     "name": "stdout",
     "output_type": "stream",
     "text": [
      "lst1\t\t: [33, 'python', [11, 22, 33], (44, 55, 66)]\n",
      "lst1[3][0]\t: 44 \n",
      "\n"
     ]
    }
   ],
   "source": [
    "lst1= [33, 'python', [11,22,33], (44,55,66)]\n",
    "print('lst1\\t\\t:', lst1)\n",
    "print('lst1[3][0]\\t:', lst1[3][0],'\\n')\n",
    "#lst1[3][0] = 88"
   ]
  },
  {
   "cell_type": "code",
   "execution_count": 47,
   "metadata": {},
   "outputs": [
    {
     "name": "stdout",
     "output_type": "stream",
     "text": [
      "lst1 = 3*[33,44]\t: [33, 44, 33, 44, 33, 44]\n",
      "lst1 = [55,66]*3\t: [55, 66, 55, 66, 55, 66]\n"
     ]
    }
   ],
   "source": [
    "lst1 = 3*[33,44]\n",
    "print('lst1 = 3*[33,44]\\t:', lst1)\n",
    "\n",
    "lst1 = [55,66]*3\n",
    "print('lst1 = [55,66]*3\\t:', lst1)"
   ]
  },
  {
   "cell_type": "code",
   "execution_count": 48,
   "metadata": {},
   "outputs": [
    {
     "name": "stdout",
     "output_type": "stream",
     "text": [
      "a = [4, 777, 444, 999, 11],\t b = ['aa', 'bb', 'cc'] \n",
      "\n",
      "max(a)\t\t\t: 999\n",
      "min(a)\t\t\t: 4\n",
      "sum(a)\t\t\t: 2235 \n",
      "\n",
      "sorted(a)\t\t: [4, 11, 444, 777, 999]\n",
      "sorted(a, reverse=True)\t: [999, 777, 444, 11, 4]\n"
     ]
    }
   ],
   "source": [
    "a = [4, 777, 444, 999, 11]\n",
    "b = ['aa', 'bb', 'cc']\n",
    "\n",
    "print(f'a = {a},\\t b = {b} \\n')\n",
    "\n",
    "print('max(a)\\t\\t\\t:', max(a))\n",
    "print('min(a)\\t\\t\\t:', min(a))\n",
    "print('sum(a)\\t\\t\\t:', sum(a),'\\n')\n",
    "\n",
    "print('sorted(a)\\t\\t:', sorted(a))\n",
    "print('sorted(a, reverse=True)\\t:', sorted(a, reverse=True))"
   ]
  },
  {
   "cell_type": "code",
   "execution_count": 49,
   "metadata": {},
   "outputs": [
    {
     "name": "stdout",
     "output_type": "stream",
     "text": [
      "a = [4, 777, 444, 999, 11],\t b = ['aa', 'bb', 'cc'] \n",
      "\n",
      "a.append(1)\t\t: [4, 777, 444, 999, 11, '1']\n",
      "a+[1]\t\t\t: [4, 777, 444, 999, 11, '1', 1] \n",
      "\n",
      "a.extend(b)\t\t: [4, 777, 444, 999, 11, '1', 'aa', 'bb', 'cc']\n",
      "a.count(4)\t\t: 1\n",
      "a.index(4)\t\t: 0 \n",
      "\n",
      "a.insert(5, 555)\t: [4, 777, 444, 999, 11, 555, '1', 'aa', 'bb', 'cc']\n"
     ]
    }
   ],
   "source": [
    "a = [4, 777, 444, 999, 11]\n",
    "b = ['aa', 'bb', 'cc']\n",
    "\n",
    "print(f'a = {a},\\t b = {b} \\n')\n",
    "\n",
    "a.append('1')\n",
    "print('a.append(1)\\t\\t:', a)        \n",
    "print('a+[1]\\t\\t\\t:', a+[1], '\\n')  #新增數字\n",
    "\n",
    "a.extend(b)\n",
    "print('a.extend(b)\\t\\t:', a)\n",
    "print('a.count(4)\\t\\t:', a.count(4))        # coount 4 and 444\n",
    "print('a.index(4)\\t\\t:', a.index(4), '\\n')\n",
    "\n",
    "a.insert(5, 555)\n",
    "print('a.insert(5, 555)\\t:', a)"
   ]
  },
  {
   "cell_type": "code",
   "execution_count": 50,
   "metadata": {},
   "outputs": [
    {
     "name": "stdout",
     "output_type": "stream",
     "text": [
      "a = [4, 777, 444, 999, 11, 45, 66, 88, 73] ,\t b = ['aa', 'bb', 'cc'] \n",
      "\n",
      "a.pop()\t\t: [4, 777, 444, 999, 11, 45, 66, 88]\n",
      "a.pop(4)\t: [4, 777, 444, 999, 45, 66, 88]\n",
      "a.remove(a[2])\t: [4, 777, 999, 45, 66, 88] \n",
      "\n",
      "a.reverse\t: [88, 66, 45, 999, 777, 4]\n",
      "c = a.copy()\t: [88, 66, 45, 999, 777, 4]\n",
      "a.clear()\t: []\n"
     ]
    }
   ],
   "source": [
    "a = [4, 777, 444, 999, 11, 45, 66, 88, 73]\n",
    "b = ['aa', 'bb', 'cc']\n",
    "\n",
    "print(f'a = {a} ,\\t b = {b} \\n')\n",
    "\n",
    "a.pop()                                       #刪除\n",
    "print('a.pop()\\t\\t:', a)       \n",
    "\n",
    "a.pop(4)                                      #刪除\n",
    "print('a.pop(4)\\t:', a)\n",
    "\n",
    "a.remove(a[2])                                #刪除\n",
    "print('a.remove(a[2])\\t:', a, '\\n')\n",
    "\n",
    "a.reverse()\n",
    "print('a.reverse\\t:', a)\n",
    "\n",
    "c = a.copy()\n",
    "print('c = a.copy()\\t:', c)\n",
    "\n",
    "a.clear()\n",
    "print('a.clear()\\t:', a)"
   ]
  },
  {
   "cell_type": "code",
   "execution_count": 51,
   "metadata": {},
   "outputs": [
    {
     "name": "stdout",
     "output_type": "stream",
     "text": [
      "[10, 20, 30, 10, 20, 30]\n",
      "[0, 3]\n"
     ]
    }
   ],
   "source": [
    "# 找 10 在 list 中的位址\n",
    "# my_list=[10, 20, 30, 10, 20, 30]\n",
    "my_list=list(range(10,40,10))*2\n",
    "print(my_list)\n",
    "my_list_out=[]\n",
    "pos=0\n",
    "# for loop start\n",
    "for x in my_list:\n",
    "    if(x==10):\n",
    "        my_list_out.append(pos)\n",
    "#        my_list_out+=[pos]\n",
    "#        my_list_out.extend([pos])\n",
    "    pos+=1\n",
    "#for loop end\n",
    "print(my_list_out)"
   ]
  },
  {
   "cell_type": "markdown",
   "metadata": {},
   "source": [
    "---"
   ]
  },
  {
   "cell_type": "markdown",
   "metadata": {},
   "source": [
    "# Module_10_串列(List)與元組(Tuple)\n",
    ">### tuple 佔記憶體小, 計算速度快\n",
    ">![memoryIndex](.\\img\\memoryIndex03.png)"
   ]
  },
  {
   "cell_type": "code",
   "execution_count": 52,
   "metadata": {},
   "outputs": [
    {
     "data": {
      "text/plain": [
       "int"
      ]
     },
     "execution_count": 52,
     "metadata": {},
     "output_type": "execute_result"
    }
   ],
   "source": [
    "t1=(50) # not tuple becasue of no ',' 只要加上逗號就會變成Tuple\n",
    "t1\n",
    "type(t1)"
   ]
  },
  {
   "cell_type": "code",
   "execution_count": 53,
   "metadata": {},
   "outputs": [
    {
     "name": "stdout",
     "output_type": "stream",
     "text": [
      "(50, 50, 50, 50)\n"
     ]
    },
    {
     "data": {
      "text/plain": [
       "tuple"
      ]
     },
     "execution_count": 53,
     "metadata": {},
     "output_type": "execute_result"
    }
   ],
   "source": [
    "t2=(50,)\n",
    "print(t2*4)\n",
    "type(t2)"
   ]
  },
  {
   "cell_type": "code",
   "execution_count": 54,
   "metadata": {},
   "outputs": [
    {
     "data": {
      "text/plain": [
       "tuple"
      ]
     },
     "execution_count": 54,
     "metadata": {},
     "output_type": "execute_result"
    }
   ],
   "source": [
    "tup2 = 50,    # tup2 = 50, 60, 70\n",
    "type(tup2)"
   ]
  },
  {
   "cell_type": "code",
   "execution_count": 55,
   "metadata": {},
   "outputs": [
    {
     "name": "stdout",
     "output_type": "stream",
     "text": [
      "(0, 2, 4, 6, 8)\n"
     ]
    },
    {
     "ename": "TypeError",
     "evalue": "'tuple' object does not support item assignment",
     "output_type": "error",
     "traceback": [
      "\u001b[1;31m---------------------------------------------------------------------------\u001b[0m",
      "\u001b[1;31mTypeError\u001b[0m                                 Traceback (most recent call last)",
      "\u001b[1;32m<ipython-input-55-532d0fd25e01>\u001b[0m in \u001b[0;36m<module>\u001b[1;34m\u001b[0m\n\u001b[0;32m      2\u001b[0m \u001b[0mprint\u001b[0m\u001b[1;33m(\u001b[0m\u001b[0mt3\u001b[0m\u001b[1;33m)\u001b[0m\u001b[1;33m\u001b[0m\u001b[1;33m\u001b[0m\u001b[0m\n\u001b[0;32m      3\u001b[0m \u001b[1;33m\u001b[0m\u001b[0m\n\u001b[1;32m----> 4\u001b[1;33m \u001b[0mt3\u001b[0m\u001b[1;33m[\u001b[0m\u001b[1;36m1\u001b[0m\u001b[1;33m]\u001b[0m \u001b[1;33m=\u001b[0m \u001b[1;36m5\u001b[0m         \u001b[1;31m# error,  immutable 字串 數字 Tuple都不可變更\u001b[0m\u001b[1;33m\u001b[0m\u001b[1;33m\u001b[0m\u001b[0m\n\u001b[0m\u001b[0;32m      5\u001b[0m \u001b[0mt3\u001b[0m\u001b[1;33m.\u001b[0m\u001b[0mremove\u001b[0m\u001b[1;33m(\u001b[0m\u001b[1;33m[\u001b[0m\u001b[1;34m'2'\u001b[0m\u001b[1;33m]\u001b[0m\u001b[1;33m)\u001b[0m  \u001b[1;31m# error, not removable, pop\u001b[0m\u001b[1;33m\u001b[0m\u001b[1;33m\u001b[0m\u001b[0m\n",
      "\u001b[1;31mTypeError\u001b[0m: 'tuple' object does not support item assignment"
     ]
    }
   ],
   "source": [
    "t3=tuple(range(0,10,2))\n",
    "print(t3)\n",
    "\n",
    "t3[1] = 5         # error,  immutable 字串 數字 Tuple都不可變更\n",
    "t3.remove(['2'])  # error, not removable, pop"
   ]
  },
  {
   "cell_type": "code",
   "execution_count": 56,
   "metadata": {},
   "outputs": [
    {
     "name": "stdout",
     "output_type": "stream",
     "text": [
      "tup3\t\t\t= ('aaa', 'bbb', 'kkk', 'jjj', 'cc1')\n",
      "sorted(tup3)\t\t: ['aaa', 'bbb', 'cc1', 'jjj', 'kkk']\n",
      "max(tup3)\t\t: kkk\n",
      "min(tup3)\t\t: aaa\n",
      "tup3.count('kkk')\t: 1\n",
      "tup3+(111,222)\t\t: ('aaa', 'bbb', 'kkk', 'jjj', 'cc1', 111, 222)\n"
     ]
    }
   ],
   "source": [
    "tup3=('aaa', 'bbb', 'kkk', 'jjj', 'cc1')\n",
    "\n",
    "print('tup3\\t\\t\\t=', tup3)\n",
    "print('sorted(tup3)\\t\\t:', sorted(tup3))  #tuple sorted 傳回的是list[], 需要用參數去接, lst=sorted(t3), t3 is still tuple, no change\n",
    "print('max(tup3)\\t\\t:', max(tup3))\n",
    "print('min(tup3)\\t\\t:', min(tup3))\n",
    "print(\"tup3.count('kkk')\\t:\", tup3.count('kkk'))\n",
    "print('tup3+(111,222)\\t\\t:', tup3+(111,222))"
   ]
  },
  {
   "cell_type": "code",
   "execution_count": 57,
   "metadata": {},
   "outputs": [
    {
     "name": "stdout",
     "output_type": "stream",
     "text": [
      "(4, 5, 6, 4, 5, 6)\n",
      "(4, 5, 6, 4, 5, 6, 8)\n"
     ]
    }
   ],
   "source": [
    "tup = 4, 5, 6; tup1 = (4, 5, 6)\n",
    "print(tup+tup1)\n",
    "print(tup+tup1+(8,))"
   ]
  },
  {
   "cell_type": "code",
   "execution_count": 58,
   "metadata": {},
   "outputs": [
    {
     "name": "stdout",
     "output_type": "stream",
     "text": [
      "<class 'tuple'>\n",
      "((4, 5, 6), (7, 8))\n",
      "(4, 5, 6, (4, 5, 6), (7, 8))\n"
     ]
    }
   ],
   "source": [
    "tup = 4, 5, 6; nested_tup = (4, 5, 6), (7, 8)\n",
    "\n",
    "print(type(tup))\n",
    "print(nested_tup)\n",
    "print(tup+nested_tup)"
   ]
  },
  {
   "cell_type": "code",
   "execution_count": 59,
   "metadata": {},
   "outputs": [
    {
     "name": "stdout",
     "output_type": "stream",
     "text": [
      "aiot\n",
      "(2, 3, 4, 5)\n",
      "(2, 4, 6, 8, 10)\n"
     ]
    }
   ],
   "source": [
    "tup1 = ('aiot', 'python', 23.5, 2019)\n",
    "tup2 = (1, 2, 3, 4, 5, 6, 7, 8, 9, 10) #\n",
    "\n",
    "print(tup1[0])\n",
    "print(tup2[1:5])\n",
    "print(tup2[1:10:2])"
   ]
  },
  {
   "cell_type": "code",
   "execution_count": 60,
   "metadata": {},
   "outputs": [
    {
     "name": "stdout",
     "output_type": "stream",
     "text": [
      "(4, 0, 2) \n",
      "\n",
      "('s', 't', 'r', 'i', 'n', 'g')\n",
      "s\n"
     ]
    }
   ],
   "source": [
    "tup = tuple([4, 0, 2])\n",
    "print(tup, '\\n')\n",
    "\n",
    "tup = tuple('string')  # try list ('string')\n",
    "print(tup)\n",
    "print(tup[0])"
   ]
  },
  {
   "cell_type": "code",
   "execution_count": 61,
   "metadata": {},
   "outputs": [
    {
     "name": "stdout",
     "output_type": "stream",
     "text": [
      "('foo', [1, 2, 3], True)\n",
      "3\n"
     ]
    },
    {
     "data": {
      "text/plain": [
       "('foo', [20, 2, 3], True)"
      ]
     },
     "execution_count": 61,
     "metadata": {},
     "output_type": "execute_result"
    }
   ],
   "source": [
    "tup = tuple(['foo', [1, 2], True])\n",
    "\n",
    "# tup[2] = False\n",
    "tup[1].append(3)  # list in Tuple OK to change or append inside of list\n",
    "print(tup)\n",
    "print(len(tup))\n",
    "tup[1][0]=20\n",
    "tup"
   ]
  },
  {
   "cell_type": "markdown",
   "metadata": {},
   "source": [
    "#### Tuple methods"
   ]
  },
  {
   "cell_type": "code",
   "execution_count": 62,
   "metadata": {},
   "outputs": [
    {
     "data": {
      "text/plain": [
       "4"
      ]
     },
     "execution_count": 62,
     "metadata": {},
     "output_type": "execute_result"
    }
   ],
   "source": [
    "a = (1, 2, 2, 2, 3, 4, 2)\n",
    "a.count(2)"
   ]
  },
  {
   "cell_type": "markdown",
   "metadata": {},
   "source": [
    "#### Unpacking tuples"
   ]
  },
  {
   "cell_type": "code",
   "execution_count": 63,
   "metadata": {},
   "outputs": [
    {
     "data": {
      "text/plain": [
       "5"
      ]
     },
     "execution_count": 63,
     "metadata": {},
     "output_type": "execute_result"
    }
   ],
   "source": [
    "tup = (4, 5, 6)\n",
    "a, b, c = tup\n",
    "b"
   ]
  },
  {
   "cell_type": "code",
   "execution_count": 64,
   "metadata": {},
   "outputs": [
    {
     "data": {
      "text/plain": [
       "7"
      ]
     },
     "execution_count": 64,
     "metadata": {},
     "output_type": "execute_result"
    }
   ],
   "source": [
    "tup = 4, 5, (6, 7)\n",
    "a, b, (c, d) = tup\n",
    "d"
   ]
  },
  {
   "cell_type": "code",
   "execution_count": 65,
   "metadata": {},
   "outputs": [
    {
     "name": "stdout",
     "output_type": "stream",
     "text": [
      "a=1, b=2, c=3\n",
      "a=4, b=5, c=6\n",
      "a=7, b=8, c=9\n"
     ]
    }
   ],
   "source": [
    "seq = [(1, 2, 3), (4, 5, 6), (7, 8, 9)]\n",
    "for a, b, c in seq:\n",
    "    print(f'a={a}, b={b}, c={c}')"
   ]
  },
  {
   "cell_type": "code",
   "execution_count": 66,
   "metadata": {},
   "outputs": [
    {
     "name": "stdout",
     "output_type": "stream",
     "text": [
      "<class 'tuple'>\n"
     ]
    },
    {
     "data": {
      "text/plain": [
       "(1, 2, [3, 4, 5])"
      ]
     },
     "execution_count": 66,
     "metadata": {},
     "output_type": "execute_result"
    }
   ],
   "source": [
    "values = 1, 2, 3, 4, 5\n",
    "print(type(values))\n",
    "a, b, *rest = values\n",
    "a, b, rest\n",
    "#rest"
   ]
  },
  {
   "cell_type": "code",
   "execution_count": 67,
   "metadata": {},
   "outputs": [
    {
     "data": {
      "text/plain": [
       "[3, 4, 5]"
      ]
     },
     "execution_count": 67,
     "metadata": {},
     "output_type": "execute_result"
    }
   ],
   "source": [
    "a, b, *_ = values\n",
    "_"
   ]
  },
  {
   "cell_type": "code",
   "execution_count": 68,
   "metadata": {},
   "outputs": [
    {
     "data": {
      "text/plain": [
       "[1, 2, 3, 5, 6, 99]"
      ]
     },
     "execution_count": 68,
     "metadata": {},
     "output_type": "execute_result"
    }
   ],
   "source": [
    "sorted ({1, 5, 3, 6, 2, 99, 6}) # no repeat elements {}is set, tuple still tuple"
   ]
  },
  {
   "cell_type": "markdown",
   "metadata": {},
   "source": [
    "# 10-14 list comprehensions"
   ]
  },
  {
   "cell_type": "code",
   "execution_count": 69,
   "metadata": {},
   "outputs": [
    {
     "name": "stdout",
     "output_type": "stream",
     "text": [
      "S =  [0, 1, 4, 9, 16, 25, 36, 49, 64, 81]\n",
      "V =  [1, 2, 4, 8, 16, 32, 64, 128, 256, 512, 1024, 2048, 4096]\n",
      "M =  [0, 4, 16, 36, 64]\n",
      "Q =  [0.0, 0.5, 2.0, 4.5, 8.0, 12.5, 18.0, 24.5, 32.0, 40.5]\n"
     ]
    }
   ],
   "source": [
    "S = [x**2 for x in range(10)] # x=0~9 for迴圈 各個乘以2次方\n",
    "V = [2**x for x in range(13)] # x=0~12\n",
    "M = [x for x in S if x % 2 == 0] # 用第一行去代\n",
    "Q = [x**2/2 for x in range(10) ]\n",
    "print('S = ', S)\n",
    "print('V = ', V)\n",
    "print('M = ', M)\n",
    "print('Q = ', Q)"
   ]
  },
  {
   "cell_type": "code",
   "execution_count": 70,
   "metadata": {},
   "outputs": [
    {
     "data": {
      "text/plain": [
       "[[1, 2, 3, 4, 5, 6, 7, 8, 9],\n",
       " [2, 4, 6, 8, 10, 12, 14, 16, 18],\n",
       " [3, 6, 9, 12, 15, 18, 21, 24, 27],\n",
       " [4, 8, 12, 16, 20, 24, 28, 32, 36],\n",
       " [5, 10, 15, 20, 25, 30, 35, 40, 45],\n",
       " [6, 12, 18, 24, 30, 36, 42, 48, 54],\n",
       " [7, 14, 21, 28, 35, 42, 49, 56, 63],\n",
       " [8, 16, 24, 32, 40, 48, 56, 64, 72],\n",
       " [9, 18, 27, 36, 45, 54, 63, 72, 81]]"
      ]
     },
     "execution_count": 70,
     "metadata": {},
     "output_type": "execute_result"
    }
   ],
   "source": [
    "# 九九乘法表 comprehensive 寫法\n",
    "[[i*j for j in range(1,10)] for i in range(1,10)]"
   ]
  },
  {
   "cell_type": "code",
   "execution_count": 71,
   "metadata": {},
   "outputs": [
    {
     "name": "stdout",
     "output_type": "stream",
     "text": [
      "2.82 µs ± 102 ns per loop (mean ± std. dev. of 7 runs, 100000 loops each)\n"
     ]
    }
   ],
   "source": [
    "%%timeit\n",
    "# V = (1,2,4,8,...2**10)\n",
    "V=[]\n",
    "for n in range(11):\n",
    "    V +=[2**n]\n",
    "V"
   ]
  },
  {
   "cell_type": "code",
   "execution_count": 72,
   "metadata": {},
   "outputs": [
    {
     "name": "stdout",
     "output_type": "stream",
     "text": [
      "2.36 µs ± 40.7 ns per loop (mean ± std. dev. of 7 runs, 100000 loops each)\n"
     ]
    }
   ],
   "source": [
    "%%timeit\n",
    "# V = (1,2,4,8,...2**10)\n",
    "V=[]\n",
    "V = [2**n for n in range(11)]\n",
    "V"
   ]
  },
  {
   "cell_type": "markdown",
   "metadata": {},
   "source": [
    "# 範例"
   ]
  },
  {
   "cell_type": "code",
   "execution_count": 73,
   "metadata": {},
   "outputs": [
    {
     "name": "stdout",
     "output_type": "stream",
     "text": [
      "[2, 3, 5, 7, 11, 13, 17, 19, 23, 29, 31, 37, 41, 43, 47, 53, 59, 61, 67, 71, 73, 79, 83, 89, 97, 101, 103, 107, 109, 113, 127, 131, 137, 139, 149, 151, 157, 163, 167, 173, 179, 181, 191, 193, 197, 199, 211, 223, 227, 229, 233, 239, 241, 251, 257, 263, 269, 271, 277, 281, 283, 293, 307, 311, 313, 317, 331, 337, 347, 349, 353, 359, 367, 373, 379, 383, 389, 397, 401, 409, 419, 421, 431, 433, 439, 443, 449, 457, 461, 463, 467, 479, 487, 491, 499, 503, 509, 521, 523, 541, 547, 557, 563, 569, 571, 577, 587, 593, 599, 601, 607, 613, 617, 619, 631, 641, 643, 647, 653, 659, 661, 673, 677, 683, 691, 701, 709, 719, 727, 733, 739, 743, 751, 757, 761, 769, 773, 787, 797, 809, 811, 821, 823, 827, 829, 839, 853, 857, 859, 863, 877, 881, 883, 887, 907, 911, 919, 929, 937, 941, 947, 953, 967, 971, 977, 983, 991, 997]\n"
     ]
    }
   ],
   "source": [
    "# 求質數\n",
    "lst=[]\n",
    "for i in range(2,1000):\n",
    "    for j in range (2,i):\n",
    "        if i%j==0:\n",
    "            break\n",
    "    else:\n",
    "        lst=lst+[i]\n",
    "print(lst)"
   ]
  },
  {
   "cell_type": "code",
   "execution_count": 74,
   "metadata": {},
   "outputs": [
    {
     "name": "stdout",
     "output_type": "stream",
     "text": [
      "(1904, 1908, 1912, 1916, 1920, 1924, 1928, 1932, 1936, 1940, 1944, 1948, 1952, 1956, 1960, 1964, 1968, 1972, 1976, 1980, 1984, 1988, 1992, 1996, 2000, 2004, 2008, 2012, 2016) \n",
      "\n",
      "[[1904], [1908], [1912], [1916], [1920], [1924], [1928], [1932], [1936], [1940], [1944], [1948], [1952], [1956], [1960], [1964], [1968], [1972], [1976], [1980], [1984], [1988], [1992], [1996], [2000], [2004], [2008], [2012], [2016]]\n"
     ]
    }
   ],
   "source": [
    "# for loop start\n",
    "#公元年分除以4可整除但公元年分除以100不可整除」\n",
    "#或「公元年分除以400可整除」\n",
    "\n",
    "tuple_year=()\n",
    "for i in range(1900, 2020):\n",
    "    if( ( i%4==0 and  i%100!=0) or (i%400==0)  ):\n",
    "        tuple_year +=(i,)\n",
    "print(tuple_year, '\\n')      \n",
    "#----------------------------------------------\n",
    "tuple_year1=[]        \n",
    "tuple_year1 = [tuple_year1+[i] for i in range(1900,2020) if(( i%4==0 and  i%100!=0) or (i%400==0)) ]\n",
    "\n",
    "print(tuple_year1)"
   ]
  },
  {
   "cell_type": "markdown",
   "metadata": {},
   "source": [
    "---"
   ]
  },
  {
   "cell_type": "markdown",
   "metadata": {},
   "source": [
    "# Module_11_字典(Dict)\n",
    ">## 讓一串資料更有可讀性"
   ]
  },
  {
   "cell_type": "code",
   "execution_count": 75,
   "metadata": {},
   "outputs": [
    {
     "name": "stdout",
     "output_type": "stream",
     "text": [
      "蘋果\n",
      "香蕉\n"
     ]
    }
   ],
   "source": [
    "# 如英漢字典\n",
    "d1={'Apple':'蘋果', 'Banana':'香蕉'}\n",
    "print(d1['Apple'])\n",
    "print(d1['Banana'])"
   ]
  },
  {
   "cell_type": "code",
   "execution_count": 76,
   "metadata": {},
   "outputs": [
    {
     "name": "stdout",
     "output_type": "stream",
     "text": [
      "2.59\n",
      "3.19 \n",
      "\n",
      "2.59\n",
      "3.19\n"
     ]
    }
   ],
   "source": [
    "lst = [2.59, 3.19, 4.8]\n",
    "print(lst[0])\n",
    "print(lst[1], '\\n')\n",
    "\n",
    "d1={'Eggs':2.59, 'Milk':3.19, 'Cheese':4.8}  # egg, milk 是不是更具可讀性?\n",
    "print(d1['Eggs'])\n",
    "print(d1['Milk'])"
   ]
  },
  {
   "cell_type": "markdown",
   "metadata": {},
   "source": [
    "><img src=\".\\img\\list-dict.png\"  style='height:400px; width:900px'>"
   ]
  },
  {
   "cell_type": "code",
   "execution_count": 77,
   "metadata": {},
   "outputs": [
    {
     "name": "stdout",
     "output_type": "stream",
     "text": [
      "True\n",
      "False\n",
      "1306458775040\n",
      "1306458771904\n"
     ]
    },
    {
     "ename": "KeyError",
     "evalue": "'class'",
     "output_type": "error",
     "traceback": [
      "\u001b[1;31m---------------------------------------------------------------------------\u001b[0m",
      "\u001b[1;31mKeyError\u001b[0m                                  Traceback (most recent call last)",
      "\u001b[1;32m<ipython-input-77-297f7db7c891>\u001b[0m in \u001b[0;36m<module>\u001b[1;34m\u001b[0m\n\u001b[0;32m      6\u001b[0m \u001b[0mprint\u001b[0m\u001b[1;33m(\u001b[0m\u001b[0mid\u001b[0m\u001b[1;33m(\u001b[0m\u001b[0md1\u001b[0m\u001b[1;33m)\u001b[0m\u001b[1;33m)\u001b[0m\u001b[1;33m\u001b[0m\u001b[1;33m\u001b[0m\u001b[0m\n\u001b[0;32m      7\u001b[0m \u001b[0mprint\u001b[0m\u001b[1;33m(\u001b[0m\u001b[0mid\u001b[0m\u001b[1;33m(\u001b[0m\u001b[0md2\u001b[0m\u001b[1;33m)\u001b[0m\u001b[1;33m)\u001b[0m\u001b[1;33m\u001b[0m\u001b[1;33m\u001b[0m\u001b[0m\n\u001b[1;32m----> 8\u001b[1;33m \u001b[0md2\u001b[0m\u001b[1;33m[\u001b[0m\u001b[1;34m'class'\u001b[0m\u001b[1;33m]\u001b[0m\u001b[1;33m\u001b[0m\u001b[1;33m\u001b[0m\u001b[0m\n\u001b[0m",
      "\u001b[1;31mKeyError\u001b[0m: 'class'"
     ]
    }
   ],
   "source": [
    "d1={'name':'John', 'age':30}\n",
    "d2={'age':30, 'name':'John'}\n",
    "\n",
    "print(d1==d2) #key跟value一樣就是True 不像其他資料型態注重先後順序\n",
    "print(d1 is d2) # memory address diff 但兩者的存放空間不一樣\n",
    "print(id(d1))\n",
    "print(id(d2))\n",
    "d2['class']"
   ]
  },
  {
   "cell_type": "markdown",
   "metadata": {},
   "source": [
    ">#### tup1 = (a, 1, b, 2, c, 3)   # 佔記憶體小且完整, 執行速度快, 不可改變但可APPEND\n",
    ">#### lst1 = [a, 1, b, 2, c, 3]   # 佔記憶體大, 執行速度慢(每筆check, sortiing)\n",
    ">#### dic1 = {'AAAA':0 , 'AAAC':4, 'AAAG':7} # 執行速度快，index(a) -> key -> value有 pointer 概念"
   ]
  },
  {
   "cell_type": "markdown",
   "metadata": {},
   "source": [
    "# 11-4"
   ]
  },
  {
   "cell_type": "code",
   "execution_count": 78,
   "metadata": {},
   "outputs": [
    {
     "name": "stdout",
     "output_type": "stream",
     "text": [
      "dict1\t\t\t: {'one': 1, 'two': 2, 'three': 3} \n",
      "\n",
      "dict1['four'] = 7\t: {'one': 1, 'two': 2, 'three': 3, 'four': 7}\n",
      "dict1['two'] = 7\t: {'one': 1, 'two': 7, 'three': 3, 'four': 7}\n",
      "del dict1['two']\t: {'one': 1, 'three': 3, 'four': 7}\n",
      "dict1['one']\t\t: 1\n"
     ]
    }
   ],
   "source": [
    "dict1 = dict(one=1, two=2, three=3)\n",
    "print('dict1\\t\\t\\t:', dict1, '\\n')    # 建立\n",
    "\n",
    "dict1['four']=7 \n",
    "print(\"dict1['four'] = 7\\t:\", dict1)    # 新增 \n",
    "\n",
    "dict1['two'] = 7\n",
    "print(\"dict1['two'] = 7\\t:\", dict1)    # 修改\n",
    "\n",
    "del dict1['two']                       # 刪除\n",
    "print(\"del dict1['two']\\t:\", dict1)\n",
    "\n",
    "print(\"dict1['one']\\t\\t:\", dict1['one'])  # 尋找"
   ]
  },
  {
   "cell_type": "code",
   "execution_count": 79,
   "metadata": {},
   "outputs": [
    {
     "name": "stdout",
     "output_type": "stream",
     "text": [
      "dict1[four] : 7\n"
     ]
    }
   ],
   "source": [
    "dict1 = {'one': 1, 'two': 2, 'three': 3, 'four':7}\n",
    "key = 'four'\n",
    "if(key in dict1):\n",
    "    print(f'dict1[{key}] : {dict1[key]}')\n",
    "else:\n",
    "    print('No', key)"
   ]
  },
  {
   "cell_type": "code",
   "execution_count": 80,
   "metadata": {},
   "outputs": [
    {
     "name": "stdout",
     "output_type": "stream",
     "text": [
      "大明 is 小明's Dad\n",
      "大華 is 小華's Dad\n",
      "大雄 is 小雄's Dad\n"
     ]
    }
   ],
   "source": [
    "Families = {'大明':'小明', '大華':'小華', '大雄':'小雄'}\n",
    "for Parent, Son in Families.items(): #dic裡面每個,為item的分界 整個物件 以迴圈賦予每個item另一個名稱\n",
    "    print(f\"{Parent} is {Son}'s Dad\")"
   ]
  },
  {
   "cell_type": "markdown",
   "metadata": {},
   "source": [
    "# 11-5"
   ]
  },
  {
   "cell_type": "markdown",
   "metadata": {},
   "source": [
    "# 11-6"
   ]
  },
  {
   "cell_type": "code",
   "execution_count": 81,
   "metadata": {},
   "outputs": [
    {
     "name": "stdout",
     "output_type": "stream",
     "text": [
      "dict1\t\t\t: {'id': 'A001', 'eng': [67, 53, 79]}\n",
      "dict1['eng']\t\t: [67, 53, 79]\n",
      "dict1['eng'][0]\t\t: 67 \n",
      "\n",
      "dict['math']=[64,85,75]\t: {'id': 'A001', 'eng': [67, 53, 79], 'math': [64, 85, 75]}\n",
      "dict1['math'][1]\t: 85\n",
      "dict1['math'][1] = 88\t: {'id': 'A001', 'eng': [67, 53, 79], 'math': [64, 88, 75]}\n"
     ]
    }
   ],
   "source": [
    "dict1 = {'id':'A001', 'eng':[67,53,79]}\n",
    "\n",
    "print('dict1\\t\\t\\t:', dict1)\n",
    "print(\"dict1['eng']\\t\\t:\", dict1['eng'])\n",
    "print(\"dict1['eng'][0]\\t\\t:\", dict1['eng'][0], '\\n')\n",
    "\n",
    "dict1['math'] = [64,85,75]\n",
    "print(\"dict['math']=[64,85,75]\\t:\", dict1)\n",
    "print(\"dict1['math'][1]\\t:\", dict1['math'][1])\n",
    "\n",
    "dict1['math'][1] = 88\n",
    "print(\"dict1['math'][1] = 88\\t:\", dict1)"
   ]
  },
  {
   "cell_type": "markdown",
   "metadata": {},
   "source": [
    "# 11 - 7"
   ]
  },
  {
   "cell_type": "code",
   "execution_count": 82,
   "metadata": {},
   "outputs": [
    {
     "name": "stdout",
     "output_type": "stream",
     "text": [
      "del dict1['Class']\t: {'Name': 'III', 'Year': 1979}\n",
      "dict1.clear()\t\t: {}\n"
     ]
    },
    {
     "ename": "NameError",
     "evalue": "name 'dict1' is not defined",
     "output_type": "error",
     "traceback": [
      "\u001b[1;31m---------------------------------------------------------------------------\u001b[0m",
      "\u001b[1;31mNameError\u001b[0m                                 Traceback (most recent call last)",
      "\u001b[1;32m<ipython-input-82-9930ab91a557>\u001b[0m in \u001b[0;36m<module>\u001b[1;34m\u001b[0m\n\u001b[0;32m      8\u001b[0m \u001b[1;33m\u001b[0m\u001b[0m\n\u001b[0;32m      9\u001b[0m \u001b[1;32mdel\u001b[0m \u001b[0mdict1\u001b[0m      \u001b[1;31m# del dict1.  dict1 is gone\u001b[0m\u001b[1;33m\u001b[0m\u001b[1;33m\u001b[0m\u001b[0m\n\u001b[1;32m---> 10\u001b[1;33m \u001b[0mprint\u001b[0m\u001b[1;33m(\u001b[0m\u001b[1;34m'del clear()\\t\\t:'\u001b[0m\u001b[1;33m,\u001b[0m \u001b[0mdict1\u001b[0m\u001b[1;33m)\u001b[0m   \u001b[1;31m# error since no dict1 any more\u001b[0m\u001b[1;33m\u001b[0m\u001b[1;33m\u001b[0m\u001b[0m\n\u001b[0m",
      "\u001b[1;31mNameError\u001b[0m: name 'dict1' is not defined"
     ]
    }
   ],
   "source": [
    "dict1 = {'Name': 'III', 'Year': 1979, 'Class': 'A'}\n",
    "\n",
    "del dict1['Class']\n",
    "print(\"del dict1['Class']\\t:\", dict1)\n",
    "\n",
    "dict1.clear()   # empty dict1\n",
    "print('dict1.clear()\\t\\t:', dict1)\n",
    "\n",
    "del dict1      # del dict1.  dict1 is gone\n",
    "print('del clear()\\t\\t:', dict1)   # error since no dict1 any more"
   ]
  },
  {
   "cell_type": "markdown",
   "metadata": {},
   "source": [
    "# 11-10"
   ]
  },
  {
   "cell_type": "code",
   "execution_count": 83,
   "metadata": {},
   "outputs": [
    {
     "name": "stdout",
     "output_type": "stream",
     "text": [
      "len(a)\t\t\t: 3\n",
      "max(a)\t\t\t: num1\n",
      "a[max(a)])\t\t: 85 \n",
      "\n",
      "min(a)\t\t\t: age\n",
      "sorted(a)\t\t: ['age', 'num', 'num1'] \n",
      "\n",
      "a.get('num')\t\t: 77\n",
      "a['num']\t\t: 77\n",
      "a.get('num', 'No item')\t: 77\n",
      "a.get('name', 'No item'): No item\n"
     ]
    }
   ],
   "source": [
    "a= {'num':77, 'num1': 85, 'age': 44}  # dict\n",
    "\n",
    "print('len(a)\\t\\t\\t:', len(a))\n",
    "print('max(a)\\t\\t\\t:', max(a))  # key max, not so meaningful\n",
    "print('a[max(a)])\\t\\t:', a[max(a)], '\\n')\n",
    "\n",
    "print('min(a)\\t\\t\\t:', min(a))\n",
    "print('sorted(a)\\t\\t:', sorted(a), '\\n')\n",
    "\n",
    "print(\"a.get('num')\\t\\t:\", a.get('num'))\n",
    "print(\"a['num']\\t\\t:\", a['num'])\n",
    "print(\"a.get('num', 'No item')\\t:\", a.get('num', 'No item'))  # get 'num' 如果 'num'不存在就show 'No item'\n",
    "print(\"a.get('name', 'No item'):\", a.get('name', 'No item')) # 'name'不存在, show 'No item'"
   ]
  },
  {
   "cell_type": "markdown",
   "metadata": {},
   "source": [
    "# 11-11"
   ]
  },
  {
   "cell_type": "code",
   "execution_count": 84,
   "metadata": {},
   "outputs": [
    {
     "data": {
      "text/plain": [
       "{'two': 2, 'one': 1, 'three': 3}"
      ]
     },
     "execution_count": 84,
     "metadata": {},
     "output_type": "execute_result"
    }
   ],
   "source": [
    "dict([('two', 2), ('one', 1), ('three', 3)]) # list of tuple"
   ]
  },
  {
   "cell_type": "code",
   "execution_count": 85,
   "metadata": {},
   "outputs": [
    {
     "data": {
      "text/plain": [
       "{'two': 2, 'one': 1, 'three': 3}"
      ]
     },
     "execution_count": 85,
     "metadata": {},
     "output_type": "execute_result"
    }
   ],
   "source": [
    "dict((('two', 2), ('one', 1), ('three', 3))) # tuple of tuple"
   ]
  },
  {
   "cell_type": "code",
   "execution_count": 86,
   "metadata": {},
   "outputs": [
    {
     "name": "stdout",
     "output_type": "stream",
     "text": [
      "dict_items([('Stars', 'John Doe'), ('Starwars', 'Jedi')]) \n",
      "\n",
      "dict_keys(['Stars', 'Starwars'])\n",
      "['Stars', 'Starwars']\n",
      "dict_values(['John Doe', 'Jedi'])\n"
     ]
    }
   ],
   "source": [
    "dict1 = {'Stars':'John Doe','Starwars':'Jedi'}\n",
    "\n",
    "print(dict1.items(), '\\n')\n",
    "\n",
    "print(dict1.keys())\n",
    "print(list(dict1.keys()))\n",
    "print(dict1.values())"
   ]
  },
  {
   "cell_type": "code",
   "execution_count": 87,
   "metadata": {},
   "outputs": [
    {
     "name": "stdout",
     "output_type": "stream",
     "text": [
      "update(a)\t: {'Stars': 'John Doe', 'Starwars': 'Jedi', 'name': '77', 'num': '85'}\n",
      "pop(\"name\")\t: {'Stars': 'John Doe', 'Starwars': 'Jedi', 'num': '85'}\n",
      "popitem()\t: {'Stars': 'John Doe', 'Starwars': 'Jedi'}\n"
     ]
    }
   ],
   "source": [
    "dict1 = {'Stars':'John Doe','Starwars':'Jedi'}\n",
    "a={'name': '77', 'num': '85'}\n",
    "\n",
    "dict1.update(a)\n",
    "print('update(a)\\t:', dict1)\n",
    "\n",
    "dict1.pop('name')\n",
    "print('pop(\"name\")\\t:', dict1)\n",
    "\n",
    "dict1.popitem()  # default is -1 item\n",
    "print('popitem()\\t:', dict1)"
   ]
  },
  {
   "cell_type": "code",
   "execution_count": 88,
   "metadata": {},
   "outputs": [
    {
     "data": {
      "text/plain": [
       "{'t': 5,\n",
       " 'h': 2,\n",
       " 'i': 3,\n",
       " 's': 3,\n",
       " ' ': 6,\n",
       " 'a': 3,\n",
       " 'l': 2,\n",
       " 'e': 3,\n",
       " 'r': 2,\n",
       " 'b': 1,\n",
       " 'o': 2,\n",
       " 'u': 1,\n",
       " 'P': 1,\n",
       " 'y': 1,\n",
       " 'n': 3,\n",
       " 'g': 1}"
      ]
     },
     "execution_count": 88,
     "metadata": {},
     "output_type": "execute_result"
    }
   ],
   "source": [
    "char_counts = {}\n",
    "word = 'this is a letters about Python learning'\n",
    "for char in tuple(word):\n",
    "    #char_counts.update({char: word.count(char)})\n",
    "    #print(char,':', end=\"\")\n",
    "    #print( word.count(char))\n",
    "    char_counts[char] = word.count(char)  # 沒有 key 就像後加\n",
    "\n",
    "#char_counts = {char: word.count(char) for char in set(word)}\n",
    "    \n",
    "char_counts"
   ]
  },
  {
   "cell_type": "code",
   "execution_count": 89,
   "metadata": {},
   "outputs": [
    {
     "name": "stdout",
     "output_type": "stream",
     "text": [
      "d1\t\t= {'a': 'apple', 'b': 'banana'} \n",
      "\n",
      "d2 (d1.copy())  : {'a': 'apple', 'b': 'banana'}\n",
      "dict1 is d2\t: False \n",
      "\n",
      "d3 (d3=d1)\t: {'a': 'apple', 'b': 'banana'}\n",
      "d3 is d1t\t: True\n"
     ]
    }
   ],
   "source": [
    "d1 ={'a': 'apple', 'b':'banana'}\n",
    "print('d1\\t\\t=', d1, '\\n')\n",
    "\n",
    "d2 = d1.copy()                           # copy has diff memory address\n",
    "print('d2 (d1.copy())  :', d2)\n",
    "print('dict1 is d2\\t:', dict1 is d2, '\\n')\n",
    "\n",
    "d3 = d1                                  # point to same address\n",
    "print('d3 (d3=d1)\\t:', d3)\n",
    "print('d3 is d1t\\t:', d3 is d1)"
   ]
  },
  {
   "cell_type": "code",
   "execution_count": 90,
   "metadata": {},
   "outputs": [
    {
     "name": "stdout",
     "output_type": "stream",
     "text": [
      "d1 =  {'a': 'amazon', 'b': 'banana'}\n",
      "d2 =  {'a': 'apple', 'b': 'banana'}\n",
      "d3 =  {'a': 'amazon', 'b': 'banana'}\n"
     ]
    }
   ],
   "source": [
    "d3['a'] = 'amazon'                     # change d3.  d1 changed too\n",
    "\n",
    "print('d1 = ', d1)\n",
    "print('d2 = ', d2)\n",
    "print('d3 = ', d3)"
   ]
  },
  {
   "cell_type": "code",
   "execution_count": 91,
   "metadata": {},
   "outputs": [
    {
     "name": "stdout",
     "output_type": "stream",
     "text": [
      "******** for key in dic1 *******\n",
      "AAAA\n",
      "BBBB\n",
      "CCCC\n",
      "\n",
      "******** for key in dic1.keys() *******\n",
      "AAAA\n",
      "BBBB\n",
      "CCCC\n",
      "\n",
      "******** for key in dic1.items() *******\n",
      "('AAAA', 0)\n",
      "('BBBB', 4)\n",
      "('CCCC', 7)\n",
      "\n",
      "******** for k, v in dic1 *******\n",
      "AAAA 0\n",
      "BBBB 4\n",
      "CCCC 7\n"
     ]
    }
   ],
   "source": [
    "# tup1 = (a, 1, b, 2, c, 3)\n",
    "# lst1 = [a, 1, b, 2, c, 3]\n",
    "dic1 = {'AAAA':0 , 'BBBB':4, 'CCCC':7}\n",
    "\n",
    "print('******** for key in dic1 *******')\n",
    "for key in dic1:\n",
    "    print(key)\n",
    "    \n",
    "print('\\n******** for key in dic1.keys() *******')    \n",
    "for key in dic1.keys():\n",
    "    print (key)\n",
    "    \n",
    "print('\\n******** for key in dic1.items() *******')    \n",
    "for key in dic1.items():\n",
    "    print (key)\n",
    "    \n",
    "print('\\n******** for k, v in dic1 *******')    \n",
    "for k, v in dic1.items():\n",
    "    print (k,v)"
   ]
  },
  {
   "cell_type": "markdown",
   "metadata": {},
   "source": [
    "---"
   ]
  },
  {
   "cell_type": "markdown",
   "metadata": {},
   "source": [
    "# Module_12_集合(Set)\n",
    ">## 集合(Set)像移除值(Value)的字典, 留下獨一無二的Key"
   ]
  },
  {
   "cell_type": "code",
   "execution_count": 102,
   "metadata": {},
   "outputs": [],
   "source": [
    "a = set()  # 空集合 Set會除去重複的值 沒有加key的{}就是set"
   ]
  },
  {
   "cell_type": "code",
   "execution_count": 103,
   "metadata": {},
   "outputs": [
    {
     "data": {
      "text/plain": [
       "{'apple', 'banana', 'orange', 'pear'}"
      ]
     },
     "execution_count": 103,
     "metadata": {},
     "output_type": "execute_result"
    }
   ],
   "source": [
    "basket = {'apple', 'orange', 'apple', 'pear', 'orange', 'banana'}\n",
    "basket\n",
    "#basket[1]    # error no ordered, 唯一"
   ]
  },
  {
   "cell_type": "code",
   "execution_count": 104,
   "metadata": {},
   "outputs": [
    {
     "data": {
      "text/plain": [
       "True"
      ]
     },
     "execution_count": 104,
     "metadata": {},
     "output_type": "execute_result"
    }
   ],
   "source": [
    "'orange' in basket"
   ]
  },
  {
   "cell_type": "code",
   "execution_count": 105,
   "metadata": {},
   "outputs": [
    {
     "data": {
      "text/plain": [
       "False"
      ]
     },
     "execution_count": 105,
     "metadata": {},
     "output_type": "execute_result"
    }
   ],
   "source": [
    "'grape' in basket"
   ]
  },
  {
   "cell_type": "code",
   "execution_count": 106,
   "metadata": {},
   "outputs": [
    {
     "data": {
      "text/plain": [
       "4"
      ]
     },
     "execution_count": 106,
     "metadata": {},
     "output_type": "execute_result"
    }
   ],
   "source": [
    "#len(set(\"apple\"))\n",
    "#print(set('apple'))\n",
    "len(set(\"apple\")) #有一個p重複 故只有4個"
   ]
  },
  {
   "cell_type": "code",
   "execution_count": 107,
   "metadata": {},
   "outputs": [
    {
     "name": "stdout",
     "output_type": "stream",
     "text": [
      "{'66316666'} 1\n",
      "{'1', '6', '3'} 3\n",
      "<class 'set'>\n",
      "<class 'set'>\n"
     ]
    }
   ],
   "source": [
    "s1={'66316666'};\n",
    "s2=set('66316666')\n",
    "print(s1, len(s1))\n",
    "print(s2, len(s2))\n",
    "print(type(s1))\n",
    "print(type(s2))"
   ]
  },
  {
   "cell_type": "markdown",
   "metadata": {},
   "source": [
    "# 12-5"
   ]
  },
  {
   "cell_type": "code",
   "execution_count": 108,
   "metadata": {},
   "outputs": [
    {
     "data": {
      "text/plain": [
       "3"
      ]
     },
     "execution_count": 108,
     "metadata": {},
     "output_type": "execute_result"
    }
   ],
   "source": [
    "'letters is beautiful'.count('e')"
   ]
  },
  {
   "cell_type": "code",
   "execution_count": 109,
   "metadata": {},
   "outputs": [
    {
     "name": "stdout",
     "output_type": "stream",
     "text": [
      "{' ', 'e', 't', 'f', 'r', 'l', 'i', 's', 'u', 'b', 'a'} \n",
      "\n"
     ]
    },
    {
     "data": {
      "text/plain": [
       "{' ': 2,\n",
       " 'e': 3,\n",
       " 't': 3,\n",
       " 'f': 1,\n",
       " 'r': 1,\n",
       " 'l': 2,\n",
       " 'i': 2,\n",
       " 's': 2,\n",
       " 'u': 2,\n",
       " 'b': 1,\n",
       " 'a': 1}"
      ]
     },
     "execution_count": 109,
     "metadata": {},
     "output_type": "execute_result"
    }
   ],
   "source": [
    "char_counts = {}\n",
    "word = 'letters is beautiful'\n",
    "print(set(word),'\\n')  # 取出唯一\n",
    "\n",
    "for char in set(word):\n",
    "    char_counts[char] = word.count(char)  # 因為唯一而會向後加(append)\n",
    "    \n",
    "char_counts"
   ]
  },
  {
   "cell_type": "code",
   "execution_count": 110,
   "metadata": {},
   "outputs": [
    {
     "name": "stdout",
     "output_type": "stream",
     "text": [
      "{' ', 'e', 't', 'f', 'r', 'l', 'i', 's', 'u', 'b', 'a'}\n"
     ]
    },
    {
     "data": {
      "text/plain": [
       "{' ': 2,\n",
       " 'e': 3,\n",
       " 't': 3,\n",
       " 'f': 1,\n",
       " 'r': 1,\n",
       " 'l': 2,\n",
       " 'i': 2,\n",
       " 's': 2,\n",
       " 'u': 2,\n",
       " 'b': 1,\n",
       " 'a': 1}"
      ]
     },
     "execution_count": 110,
     "metadata": {},
     "output_type": "execute_result"
    }
   ],
   "source": [
    "word='letters is beautiful'\n",
    "print(set(word))  # 唯一\n",
    "\n",
    "char_counts = {x:word.count(x) for x in set(word)}\n",
    "char_counts"
   ]
  },
  {
   "cell_type": "code",
   "execution_count": 111,
   "metadata": {},
   "outputs": [
    {
     "name": "stdout",
     "output_type": "stream",
     "text": [
      "2 3 5 6 7 "
     ]
    }
   ],
   "source": [
    "for x in {6,5,2,3,7,3} :   \n",
    "    print (x, end = ' ') "
   ]
  },
  {
   "cell_type": "markdown",
   "metadata": {},
   "source": [
    "><img src=\".\\img\\set.png\"  style='height:450px; width:750px'>"
   ]
  },
  {
   "cell_type": "code",
   "execution_count": 112,
   "metadata": {},
   "outputs": [
    {
     "name": "stdout",
     "output_type": "stream",
     "text": [
      "{1,2,3} | {2,3,4}\t=  {1, 2, 3, 4}\n",
      "{1,2,3} & {2,3,4}\t=  {2, 3}\n",
      "{1,2,3} ^ {2,3,4}\t=  {1, 4} \n",
      "\n",
      "{1,2,3} - {2,3,4}\t=  {1}\n",
      "{2,3,4} - {2,3,1}\t=  {4}\n",
      "{1,2,3} ^ {2,3,4}\t=  {1, 4} \n",
      "\n",
      "{1,2} < {1,2,3,4}\t=  True\n",
      "{1,2} > {1,2,3,4}\t=  False\n"
     ]
    }
   ],
   "source": [
    "print('{1,2,3} | {2,3,4}\\t= ', {1,2,3} | {2,3,4})  # 聯集\n",
    "print('{1,2,3} & {2,3,4}\\t= ', {1,2,3} & {2,3,4})  # 交集\n",
    "print('{1,2,3} ^ {2,3,4}\\t= ', {1,2,3} ^ {2,3,4}, '\\n')  # XOR 互斥或\n",
    "\n",
    "print('{1,2,3} - {2,3,4}\\t= ', {1,2,3} - {2,3,4})  # diff\n",
    "print('{2,3,4} - {2,3,1}\\t= ', {2,3,4} - {2,3,1})  # diff\n",
    "print('{1,2,3} ^ {2,3,4}\\t= ', {1,2,3} ^ {2,3,4}, '\\n')  # symmetric diff\n",
    "\n",
    "print('{1,2} < {1,2,3,4}\\t= ', {1,2} < {1,2,3,4})  # sub\n",
    "print('{1,2} > {1,2,3,4}\\t= ', {1,2} > {1,2,3,4})  # sub"
   ]
  },
  {
   "cell_type": "code",
   "execution_count": 113,
   "metadata": {},
   "outputs": [
    {
     "name": "stdout",
     "output_type": "stream",
     "text": [
      "a = {1, 2, 3},  b = {3, 4, 5},  c = {4, 5, 6},  d= {1, 2, 3, 4, 5, 6} \n",
      "\n",
      "a.isdisjoint(b)\t\t\t: False\n",
      "b.isdisjoint(a)\t\t\t: False \n",
      "\n",
      "a.issubset(b)\t\t\t: False\n",
      "a.issubset(d)\t\t\t: True\n",
      "d.issuperset(a)\t\t\t: True \n",
      "\n",
      "a.union(b)\t\t\t: {1, 2, 3, 4, 5}\n",
      "a.union(b) == a|b\t\t: True\n",
      "a.intersection(b)\t\t: {3} \n",
      "\n",
      "a.difference(b)\t\t\t: {1, 2}\n",
      "b.difference(a)\t\t\t: {4, 5}\n",
      "a.symmetric_difference(b)\t: {1, 2, 4, 5} \n",
      "\n"
     ]
    }
   ],
   "source": [
    "a = {1,2,3}; b = {3,4,5}; c = {4,5,6}; d = {1,2,3,4,5,6}\n",
    "\n",
    "print (f'a = {a},  b = {b},  c = {c},  d= {d} \\n')\n",
    "\n",
    "print('a.isdisjoint(b)\\t\\t\\t:', a.isdisjoint(b))     # 沒交集\n",
    "print('b.isdisjoint(a)\\t\\t\\t:', b.isdisjoint(a), '\\n')\n",
    "\n",
    "print('a.issubset(b)\\t\\t\\t:', a.issubset(b))\n",
    "print('a.issubset(d)\\t\\t\\t:', a.issubset(d))\n",
    "print('d.issuperset(a)\\t\\t\\t:', d.issuperset(a), '\\n')\n",
    "\n",
    "print('a.union(b)\\t\\t\\t:', a.union(b))\n",
    "print('a.union(b) == a|b\\t\\t:', a.union(b) == a|b)\n",
    "print('a.intersection(b)\\t\\t:', a.intersection(b), '\\n')  #交集\n",
    "\n",
    "print('a.difference(b)\\t\\t\\t:', a.difference(b))  # 差集\n",
    "print('b.difference(a)\\t\\t\\t:', b.difference(a))  # 差集\n",
    "print('a.symmetric_difference(b)\\t:', a.symmetric_difference(b),'\\n')  "
   ]
  },
  {
   "cell_type": "code",
   "execution_count": 114,
   "metadata": {},
   "outputs": [
    {
     "name": "stdout",
     "output_type": "stream",
     "text": [
      "{2, 3, 4, 6, 8, 9, 10, 12}\n",
      "{2, 3, 4, 6, 8, 9, 10, 12} \n",
      "\n",
      "{12, 6}\n",
      "{12, 6} \n",
      "\n",
      "{8, 2, 10, 4}\n",
      "{8, 2, 10, 4}\n",
      "{9, 3} \n",
      "\n",
      "{2, 3, 4, 8, 9, 10}\n",
      "{2, 3, 4, 8, 9, 10}\n"
     ]
    }
   ],
   "source": [
    "set_a = {2,4,6,8,10,12}\n",
    "set_b = {3,6,9,12}\n",
    "\n",
    "#聯集取得所有元素\n",
    "print(set_a.union(set_b))                 #{2,3,4,6,8,9,10,12}\n",
    "print(set_a | set_b, '\\n')                #{2,3,4,6,8,9,10,12}\n",
    "\n",
    "#交集取得集合重複的部分\n",
    "print(set_a.intersection(set_b))          #{6, 12}\n",
    "print(set_a & set_b, '\\n')                #{6, 12}\n",
    "\n",
    "#取出set_a跟set_b不一樣的元素\n",
    "print(set_a.difference(set_b))            #{2,4,8,10}\n",
    "print(set_a - set_b)                      #{2,4,8,10}\n",
    "print(set_b.difference(set_a), '\\n')      #{9,3}\n",
    "\n",
    "#取出兩個集合中不一樣(沒有重複)的元素\n",
    "print(set_a.symmetric_difference(set_b))  #{2,3,4,8,9,10}\n",
    "print(set_a ^ set_b)                      #{2,3,4,8,9,10}"
   ]
  },
  {
   "cell_type": "code",
   "execution_count": 115,
   "metadata": {},
   "outputs": [
    {
     "data": {
      "text/plain": [
       "{1, 2, 3, 4, 5}"
      ]
     },
     "execution_count": 115,
     "metadata": {},
     "output_type": "execute_result"
    }
   ],
   "source": [
    "a = {1,2,3}; b = {3,4,5}; c = {4,5,6}; d = {1,2,3,4,5,6}\n",
    "a.update(b);\n",
    "a"
   ]
  },
  {
   "cell_type": "code",
   "execution_count": 116,
   "metadata": {},
   "outputs": [
    {
     "data": {
      "text/plain": [
       "{3}"
      ]
     },
     "execution_count": 116,
     "metadata": {},
     "output_type": "execute_result"
    }
   ],
   "source": [
    "a = {1,2,3}; b = {3,4,5}; c = {4,5,6}; d = {1,2,3,4,5,6}\n",
    "a.intersection_update(b);\n",
    "a                         #傳回與 b集合的交集"
   ]
  },
  {
   "cell_type": "code",
   "execution_count": 117,
   "metadata": {},
   "outputs": [
    {
     "data": {
      "text/plain": [
       "{1, 2, 3}"
      ]
     },
     "execution_count": 117,
     "metadata": {},
     "output_type": "execute_result"
    }
   ],
   "source": [
    "a = {1,2,3}; b = {3,4,5}; c = {4,5,6}; d = {1,2,3,4,5,6}\n",
    "a.add(1)  # how about add(4)\n",
    "a"
   ]
  },
  {
   "cell_type": "code",
   "execution_count": 118,
   "metadata": {},
   "outputs": [
    {
     "data": {
      "text/plain": [
       "{2, 3}"
      ]
     },
     "execution_count": 118,
     "metadata": {},
     "output_type": "execute_result"
    }
   ],
   "source": [
    "a = {1,2,3}; b = {3,4,5}; c = {4,5,6}; d = {1,2,3,4,5,6}\n",
    "a.remove(1);\n",
    "a"
   ]
  },
  {
   "cell_type": "code",
   "execution_count": 119,
   "metadata": {},
   "outputs": [
    {
     "ename": "KeyError",
     "evalue": "4",
     "output_type": "error",
     "traceback": [
      "\u001b[1;31m---------------------------------------------------------------------------\u001b[0m",
      "\u001b[1;31mKeyError\u001b[0m                                  Traceback (most recent call last)",
      "\u001b[1;32m<ipython-input-119-65ad59fe9ead>\u001b[0m in \u001b[0;36m<module>\u001b[1;34m\u001b[0m\n\u001b[0;32m      1\u001b[0m \u001b[0ma\u001b[0m \u001b[1;33m=\u001b[0m \u001b[1;33m{\u001b[0m\u001b[1;36m1\u001b[0m\u001b[1;33m,\u001b[0m\u001b[1;36m2\u001b[0m\u001b[1;33m,\u001b[0m\u001b[1;36m3\u001b[0m\u001b[1;33m}\u001b[0m\u001b[1;33m;\u001b[0m \u001b[0mb\u001b[0m \u001b[1;33m=\u001b[0m \u001b[1;33m{\u001b[0m\u001b[1;36m3\u001b[0m\u001b[1;33m,\u001b[0m\u001b[1;36m4\u001b[0m\u001b[1;33m,\u001b[0m\u001b[1;36m5\u001b[0m\u001b[1;33m}\u001b[0m\u001b[1;33m;\u001b[0m \u001b[0mc\u001b[0m \u001b[1;33m=\u001b[0m \u001b[1;33m{\u001b[0m\u001b[1;36m4\u001b[0m\u001b[1;33m,\u001b[0m\u001b[1;36m5\u001b[0m\u001b[1;33m,\u001b[0m\u001b[1;36m6\u001b[0m\u001b[1;33m}\u001b[0m\u001b[1;33m;\u001b[0m \u001b[0md\u001b[0m \u001b[1;33m=\u001b[0m \u001b[1;33m{\u001b[0m\u001b[1;36m1\u001b[0m\u001b[1;33m,\u001b[0m\u001b[1;36m2\u001b[0m\u001b[1;33m,\u001b[0m\u001b[1;36m3\u001b[0m\u001b[1;33m,\u001b[0m\u001b[1;36m4\u001b[0m\u001b[1;33m,\u001b[0m\u001b[1;36m5\u001b[0m\u001b[1;33m,\u001b[0m\u001b[1;36m6\u001b[0m\u001b[1;33m}\u001b[0m\u001b[1;33m\u001b[0m\u001b[1;33m\u001b[0m\u001b[0m\n\u001b[1;32m----> 2\u001b[1;33m \u001b[0ma\u001b[0m\u001b[1;33m.\u001b[0m\u001b[0mremove\u001b[0m\u001b[1;33m(\u001b[0m\u001b[1;36m4\u001b[0m\u001b[1;33m)\u001b[0m\u001b[1;33m;\u001b[0m\u001b[1;33m\u001b[0m\u001b[1;33m\u001b[0m\u001b[0m\n\u001b[0m\u001b[0;32m      3\u001b[0m \u001b[0ma\u001b[0m\u001b[1;33m\u001b[0m\u001b[1;33m\u001b[0m\u001b[0m\n",
      "\u001b[1;31mKeyError\u001b[0m: 4"
     ]
    }
   ],
   "source": [
    "a = {1,2,3}; b = {3,4,5}; c = {4,5,6}; d = {1,2,3,4,5,6}\n",
    "a.remove(4);\n",
    "a"
   ]
  },
  {
   "cell_type": "code",
   "execution_count": 120,
   "metadata": {},
   "outputs": [
    {
     "data": {
      "text/plain": [
       "{1, 2, 3}"
      ]
     },
     "execution_count": 120,
     "metadata": {},
     "output_type": "execute_result"
    }
   ],
   "source": [
    "a = {1,2,3}; b = {3,4,5}; c = {4,5,6}; d = {1,2,3,4,5,6}\n",
    "a.discard(4);\n",
    "a  # 如果 elem 存在於 s ，則將其移除。此方法不會觸發 KeyError 的例外"
   ]
  },
  {
   "cell_type": "code",
   "execution_count": 121,
   "metadata": {},
   "outputs": [
    {
     "data": {
      "text/plain": [
       "{2, 3}"
      ]
     },
     "execution_count": 121,
     "metadata": {},
     "output_type": "execute_result"
    }
   ],
   "source": [
    "a = {1,2,3}; b = {3,4,5}; c = {4,5,6}; d = {1,2,3,4,5,6}\n",
    "a.pop(); \n",
    "a"
   ]
  },
  {
   "cell_type": "markdown",
   "metadata": {},
   "source": [
    "><img src=\".\\img\\list-tuple-dict-set.png\"  style='height:300px; width:850px'>"
   ]
  },
  {
   "cell_type": "markdown",
   "metadata": {},
   "source": [
    "# 12-16"
   ]
  },
  {
   "cell_type": "code",
   "execution_count": 122,
   "metadata": {},
   "outputs": [
    {
     "data": {
      "text/plain": [
       "{1, 4}"
      ]
     },
     "execution_count": 122,
     "metadata": {},
     "output_type": "execute_result"
    }
   ],
   "source": [
    "s = {num for num in range(1,6) if num % 3 == 1}\n",
    "s"
   ]
  },
  {
   "cell_type": "code",
   "execution_count": null,
   "metadata": {},
   "outputs": [],
   "source": []
  },
  {
   "cell_type": "code",
   "execution_count": null,
   "metadata": {},
   "outputs": [],
   "source": []
  }
 ],
 "metadata": {
  "kernelspec": {
   "display_name": "Python 3",
   "language": "python",
   "name": "python3"
  },
  "language_info": {
   "codemirror_mode": {
    "name": "ipython",
    "version": 3
   },
   "file_extension": ".py",
   "mimetype": "text/x-python",
   "name": "python",
   "nbconvert_exporter": "python",
   "pygments_lexer": "ipython3",
   "version": "3.8.2"
  }
 },
 "nbformat": 4,
 "nbformat_minor": 4
}
