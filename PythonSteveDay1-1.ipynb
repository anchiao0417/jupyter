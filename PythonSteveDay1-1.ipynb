{
 "cells": [
  {
   "cell_type": "markdown",
   "metadata": {},
   "source": [
    "# Module_00 課程簡介--Python先修\n",
    "\n",
    ">### 1.  課堂上多思考邏輯\n",
    ">### 2.  線上考試, 線上教學評量\n",
    ">### 3.  座位固定 (可協調後換座位)\n",
    ">### 4.  多參加線上社團學習, 如 FB-python Taiwan....etc."
   ]
  },
  {
   "cell_type": "markdown",
   "metadata": {},
   "source": [
    "-----"
   ]
  },
  {
   "cell_type": "markdown",
   "metadata": {},
   "source": [
    "><img src=\".\\img\\pythonLogo.png\"  style='height:450px; width:900px'></img>\n",
    "## 程式語言的成長趨勢\n",
    "><img src=\".\\img\\PythonTrend.png\"  style='height:450px; width:900px'>\n",
    "><img src=\".\\img\\PythonTrend01.png\"  style='height:450px; width:900px'>"
   ]
  },
  {
   "cell_type": "markdown",
   "metadata": {},
   "source": [
    "---"
   ]
  },
  {
   "cell_type": "markdown",
   "metadata": {},
   "source": [
    "# 0-3, Python 特色\n",
    ">### 1. 物件導向式語言架構(Object-Oriented Program Language)\n",
    ">### 2. 直譯式, 又稱作腳本語言(Scripting language)\n",
    ">### 3. 省略變數類型宣告動作\n",
    ">### 4. 自動化的記憶體管理\n",
    ">### 5. 內建許多高階實用的資料型態, 提供許多標準函式庫及第三方套件(package)\n",
    ">### 6. 跨平台與圖形介面延伸, 膠水語言(glue language)，能與其他語言結合\n",
    ">### 7. 優雅簡潔，易學易用"
   ]
  },
  {
   "cell_type": "markdown",
   "metadata": {},
   "source": [
    "---"
   ]
  },
  {
   "cell_type": "markdown",
   "metadata": {},
   "source": [
    "# Python2.X\n",
    ">## 穩定版本\n",
    ">## version2.7 為最終版本(2020-01-01 終止支援)\n",
    "\n",
    "# Python3.X\n",
    ">## 現在進行式同時也是未來趨勢\n",
    ">## 活絡發展中\n",
    ">## 對初學者較友善"
   ]
  },
  {
   "cell_type": "markdown",
   "metadata": {},
   "source": [
    "---"
   ]
  },
  {
   "cell_type": "markdown",
   "metadata": {},
   "source": [
    "# Python 科學堆疊\n",
    "><img src=\".\\img\\scipy-stack.png\"  style='height:450px; width:900px'>"
   ]
  },
  {
   "cell_type": "markdown",
   "metadata": {},
   "source": [
    "---"
   ]
  },
  {
   "cell_type": "markdown",
   "metadata": {},
   "source": [
    "# Module_01_Python簡介"
   ]
  },
  {
   "cell_type": "markdown",
   "metadata": {},
   "source": [
    ">## Top IDEs (Integrated Development Environment) for Text Editor\n",
    "><img src=\".\\img\\mostIde.png\"  style='height:550px; width:900px'>"
   ]
  },
  {
   "cell_type": "markdown",
   "metadata": {},
   "source": [
    "# IDE (開發工具箱)\n",
    ">## IDLE (Python 提供的)\n",
    ">## VS code\n",
    ">## Jupyter lab (網站架構<HTML>) "
   ]
  },
  {
   "cell_type": "markdown",
   "metadata": {},
   "source": [
    "# Top Python IDEs for Data Science in 2019\n",
    "><img src=\".\\img\\mostIde.jpg\"  style='height:550px; width:900px'>"
   ]
  },
  {
   "cell_type": "markdown",
   "metadata": {},
   "source": [
    "# 電腦硬體基本架構 : CPU, Memory, I/O\n",
    "><img src=\".\\img\\computerHW.jpg\"  style='height:350px; width:900px'>"
   ]
  },
  {
   "cell_type": "markdown",
   "metadata": {},
   "source": [
    "# 原始碼(source code)、位元組碼(byte code)、機械碼(machine code)"
   ]
  },
  {
   "cell_type": "markdown",
   "metadata": {},
   "source": [
    "><img src=\".\\img\\Py-pyc03.png\"  style='height:450px; width:900px'>"
   ]
  },
  {
   "cell_type": "markdown",
   "metadata": {},
   "source": []
  },
  {
   "cell_type": "markdown",
   "metadata": {},
   "source": [
    "# 1-10 安裝 Python, VS code\n",
    ">## 硬碟檢視\n",
    ">## Python : Download 64位元 Windows x86-64 executable installer\n",
    ">## 安裝參考講義 1-10\n",
    "><img src=\".\\img\\pythonInstall01.jpg\"  style='height:350px; width:900px'>\n",
    "\n",
    "### 1-10 python document\n",
    "\n",
    ">#### https://docs.python.org/3/\n",
    ">#### PEP 8 Tab and space\n",
    ">#### Google \"buildin function\" "
   ]
  },
  {
   "cell_type": "markdown",
   "metadata": {},
   "source": [
    "# IDLE & VScode\n",
    ">### https://code.visualstudio.com/download\n",
    ">### VSCodeUserSetup-x64-1.45.1.exe\n",
    ">### ctrl + shift + p"
   ]
  },
  {
   "cell_type": "markdown",
   "metadata": {},
   "source": [
    "# Using Jupyter Lab\n",
    "\n",
    ">## Note :\n",
    ">#### 1.  Ipython 就是 Jupyter Python 的 Kernal (ipython : 互動式)\n",
    ">#### 2.  在 (Windows PowerShell 系統管理員)身分下打 pip install jupyterlab 指令(灌程式)\n",
    ">#### 3.  在 (Windows PowerShell 一般身分)下打 jupyter lab (執行程式)(c:\\xxxx\\xxxx> jupyter lab)\n",
    ">#### 4.  or install Anaconda ( :>jupyter notebook) (暫不建議, 為了維持一套 python 在電腦中)"
   ]
  },
  {
   "cell_type": "code",
   "execution_count": 5,
   "metadata": {},
   "outputs": [
    {
     "data": {
      "text/plain": [
       "'3.8.2 (tags/v3.8.2:7b3ab59, Feb 25 2020, 23:03:10) [MSC v.1916 64 bit (AMD64)]'"
      ]
     },
     "execution_count": 5,
     "metadata": {},
     "output_type": "execute_result"
    }
   ],
   "source": [
    "import sys\n",
    "sys.version"
   ]
  },
  {
   "cell_type": "code",
   "execution_count": 6,
   "metadata": {},
   "outputs": [
    {
     "name": "stdout",
     "output_type": "stream",
     "text": [
      "Help on built-in function print in module builtins:\n",
      "\n",
      "print(...)\n",
      "    print(value, ..., sep=' ', end='\\n', file=sys.stdout, flush=False)\n",
      "    \n",
      "    Prints the values to a stream, or to sys.stdout by default.\n",
      "    Optional keyword arguments:\n",
      "    file:  a file-like object (stream); defaults to the current sys.stdout.\n",
      "    sep:   string inserted between values, default a space.\n",
      "    end:   string appended after the last value, default a newline.\n",
      "    flush: whether to forcibly flush the stream.\n",
      "\n"
     ]
    }
   ],
   "source": [
    "help(print)  # shift + tab,  see whatever you want to check.  change 'len' in quotation."
   ]
  },
  {
   "cell_type": "code",
   "execution_count": 7,
   "metadata": {},
   "outputs": [
    {
     "data": {
      "text/plain": [
       "\u001b[1;31mSignature:\u001b[0m \u001b[0mlen\u001b[0m\u001b[1;33m(\u001b[0m\u001b[0mobj\u001b[0m\u001b[1;33m,\u001b[0m \u001b[1;33m/\u001b[0m\u001b[1;33m)\u001b[0m\u001b[1;33m\u001b[0m\u001b[1;33m\u001b[0m\u001b[0m\n",
       "\u001b[1;31mDocstring:\u001b[0m Return the number of items in a container.\n",
       "\u001b[1;31mType:\u001b[0m      builtin_function_or_method\n"
      ]
     },
     "metadata": {},
     "output_type": "display_data"
    }
   ],
   "source": [
    "len?"
   ]
  },
  {
   "cell_type": "code",
   "execution_count": 8,
   "metadata": {},
   "outputs": [
    {
     "data": {
      "text/plain": [
       "3"
      ]
     },
     "execution_count": 8,
     "metadata": {},
     "output_type": "execute_result"
    }
   ],
   "source": [
    "L = [1, 2, 3]\n",
    "len(L)"
   ]
  },
  {
   "cell_type": "code",
   "execution_count": 9,
   "metadata": {},
   "outputs": [
    {
     "name": "stdout",
     "output_type": "stream",
     "text": [
      "  4           0 LOAD_FAST                0 (a)\n",
      "              2 LOAD_FAST                1 (b)\n",
      "              4 BINARY_ADD\n",
      "              6 RETURN_VALUE\n"
     ]
    }
   ],
   "source": [
    "# show 位元碼\n",
    "import dis\n",
    "def add(a,b):\n",
    "    return a+b\n",
    "add.__code__.co_code\n",
    "# print(add.__code__.co_code)\n",
    "dis.dis(add)"
   ]
  },
  {
   "cell_type": "markdown",
   "metadata": {},
   "source": [
    "# Module_02_認識變數與基本數學運算\n",
    "\n",
    ">### 特此申明 : 在Jupyter 中盡量不要用 print 指令，但為了初學者容易閱讀起見, 不得已我們會用一些\n",
    ">### 原因如下: y 是 '數字' 還是 '文字' 傻傻分不清"
   ]
  },
  {
   "cell_type": "code",
   "execution_count": 11,
   "metadata": {},
   "outputs": [
    {
     "name": "stdout",
     "output_type": "stream",
     "text": [
      "5\n"
     ]
    },
    {
     "data": {
      "text/plain": [
       "'5'"
      ]
     },
     "execution_count": 11,
     "metadata": {},
     "output_type": "execute_result"
    }
   ],
   "source": [
    "y = \"5\"\n",
    "print(y)   # y 數字還是文字傻傻分不清\n",
    "y   "
   ]
  },
  {
   "cell_type": "code",
   "execution_count": 12,
   "metadata": {},
   "outputs": [
    {
     "name": "stdout",
     "output_type": "stream",
     "text": [
      "Python is simple; Python is simple; Python is simple; Python is simple;  enjoy!\n"
     ]
    }
   ],
   "source": [
    "print('Python is simple; '*4 ,'enjoy!')  # print內 ','代表空一格, print就是一函數(函式), "
   ]
  },
  {
   "cell_type": "markdown",
   "metadata": {},
   "source": [
    "## 2-2 keyword list"
   ]
  },
  {
   "cell_type": "code",
   "execution_count": null,
   "metadata": {},
   "outputs": [],
   "source": [
    "import keyword\n",
    "print(keyword.kwlist, '\\n')\n",
    "\n",
    "# list all built-in keywords\n",
    "print(vars(__builtin__).keys(),)\n",
    "\n",
    "#-------------------------------\n",
    "# 與 built-in functions 命名衝突的下場\n",
    "\n",
    "list= ['aaa', 'bbb', 'ccc']\n",
    "# 然而 因為 list是Python built-in 的 keyword, 這樣會導致 list 這個function無法再被使用\n",
    "\n",
    "list(range(10))\n",
    "# TypeError: 'list' object is not callable\n",
    "# 這個時候就可以用 list_ 來命名，做為區隔\n",
    "#（但這種命名其實不夠精確，name_list, lst list01 可能是一個比較好的選擇）\n",
    "# try print=1"
   ]
  },
  {
   "cell_type": "code",
   "execution_count": null,
   "metadata": {},
   "outputs": [],
   "source": [
    "# print=1\n",
    "# print('abc')"
   ]
  },
  {
   "cell_type": "code",
   "execution_count": null,
   "metadata": {},
   "outputs": [],
   "source": [
    "999**999  # INT no overflow"
   ]
  },
  {
   "cell_type": "code",
   "execution_count": null,
   "metadata": {},
   "outputs": [],
   "source": [
    "999.**999 # floating overflow"
   ]
  },
  {
   "cell_type": "code",
   "execution_count": null,
   "metadata": {},
   "outputs": [],
   "source": [
    "# max floating number\n",
    "import sys\n",
    "sys.float_info.max"
   ]
  },
  {
   "cell_type": "markdown",
   "metadata": {},
   "source": [
    "## 2-5"
   ]
  },
  {
   "cell_type": "code",
   "execution_count": 2,
   "metadata": {},
   "outputs": [
    {
     "name": "stdout",
     "output_type": "stream",
     "text": [
      "50\n"
     ]
    }
   ],
   "source": [
    "print(50)"
   ]
  },
  {
   "cell_type": "code",
   "execution_count": 1,
   "metadata": {},
   "outputs": [
    {
     "data": {
      "text/plain": [
       "'John'"
      ]
     },
     "execution_count": 1,
     "metadata": {},
     "output_type": "execute_result"
    }
   ],
   "source": [
    "name = 'John'\n",
    "name\n",
    "    ''會印出來 \"\"不會印出來"
   ]
  },
  {
   "cell_type": "code",
   "execution_count": null,
   "metadata": {},
   "outputs": [],
   "source": [
    "miles = 477.5\n",
    "miles"
   ]
  },
  {
   "cell_type": "code",
   "execution_count": 3,
   "metadata": {},
   "outputs": [
    {
     "name": "stdout",
     "output_type": "stream",
     "text": [
      "total = 10\n",
      "10 , 20.0\n"
     ]
    },
    {
     "data": {
      "text/plain": [
       "(10, ',', 20.0)"
      ]
     },
     "execution_count": 3,
     "metadata": {},
     "output_type": "execute_result"
    }
   ],
   "source": [
    "total = 10; total1 = 20.\n",
    "# 逗號等於空一格\n",
    "print('total =', total)\n",
    "print(total,',', total1)\n",
    "total,',', total1    沒有加print?"
   ]
  },
  {
   "cell_type": "code",
   "execution_count": 4,
   "metadata": {},
   "outputs": [
    {
     "name": "stdout",
     "output_type": "stream",
     "text": [
      "1 2.0 John\n"
     ]
    },
    {
     "data": {
      "text/plain": [
       "(1, 2.0, 'John')"
      ]
     },
     "execution_count": 4,
     "metadata": {},
     "output_type": "execute_result"
    }
   ],
   "source": [
    "a, b, c = 1, 2., \"John\"\n",
    "print(a, b, c)\n",
    "a, b, c"
   ]
  },
  {
   "cell_type": "code",
   "execution_count": null,
   "metadata": {},
   "outputs": [],
   "source": [
    "# 練習\n",
    "# print (......) # str, int float"
   ]
  },
  {
   "cell_type": "code",
   "execution_count": null,
   "metadata": {},
   "outputs": [],
   "source": [
    "print(+7); print(++7)\n",
    "print(12+34)\n",
    "print(9**2)\n",
    "print(9//2)  # 整數除法\n",
    "print(-9//2) # ??? what happen??  地板式整除"
   ]
  },
  {
   "cell_type": "code",
   "execution_count": null,
   "metadata": {},
   "outputs": [],
   "source": [
    "print('17*6\\t=', 17*6)\n",
    "print('17*6\\t=', 17*6, '\\t17%6 = ', 17%6)\n",
    "print()  # 下一行\n",
    "print('17*6\\t=', 17*6, '\\n')  # '\\n'\n",
    "print('17/6\\t=', 17*6, '\\t17%6 = ', 17%6)"
   ]
  },
  {
   "cell_type": "code",
   "execution_count": null,
   "metadata": {},
   "outputs": [],
   "source": [
    "a = 5; b = 3; a = a/b\n",
    "a"
   ]
  },
  {
   "cell_type": "code",
   "execution_count": null,
   "metadata": {},
   "outputs": [],
   "source": [
    "a = 5; b = 2\n",
    "a = a + b  # a += b  # 初學者不建議這種寫法\n",
    "print(a)"
   ]
  },
  {
   "cell_type": "code",
   "execution_count": null,
   "metadata": {},
   "outputs": [],
   "source": [
    "a=5; b=2\n",
    "a,b = b,a\n",
    "print(a)    \n",
    "print(b)    "
   ]
  },
  {
   "cell_type": "markdown",
   "metadata": {},
   "source": [
    "# 2-9"
   ]
  },
  {
   "cell_type": "code",
   "execution_count": null,
   "metadata": {},
   "outputs": [],
   "source": [
    "17/6"
   ]
  },
  {
   "cell_type": "code",
   "execution_count": null,
   "metadata": {},
   "outputs": [],
   "source": [
    "17./6"
   ]
  },
  {
   "cell_type": "code",
   "execution_count": null,
   "metadata": {},
   "outputs": [],
   "source": [
    "17%6"
   ]
  },
  {
   "cell_type": "code",
   "execution_count": null,
   "metadata": {},
   "outputs": [],
   "source": [
    "17.%6"
   ]
  },
  {
   "cell_type": "markdown",
   "metadata": {},
   "source": [
    "---"
   ]
  },
  {
   "cell_type": "markdown",
   "metadata": {},
   "source": [
    "# Module_03_Python數值資料型態"
   ]
  },
  {
   "cell_type": "markdown",
   "metadata": {},
   "source": [
    ">## Object(物件) 三要件 : \n",
    ">### 1.  type (int, float, str...),\n",
    ">### 2.  id (記憶體位置),\n",
    ">### 3.  value (1, 2.0, 'john')"
   ]
  },
  {
   "cell_type": "markdown",
   "metadata": {},
   "source": [
    ">>![memoryIndex](.\\img\\memoryIndex.jpg)\n",
    ">>![memoryIndex](.\\img\\memoryIndex01.png)\n",
    ">>![memoryIndex](.\\img\\memoryIndex02.jpg)"
   ]
  },
  {
   "cell_type": "code",
   "execution_count": null,
   "metadata": {},
   "outputs": [],
   "source": [
    "a = 7; b = 7.\n",
    "# type\n",
    "print('type(a)\\t=', type(a))\n",
    "print('type(b)\\t=', type(b),'\\n')\n",
    "\n",
    "# memory address\n",
    "print('id(a)\\t:', id(a))        # 記憶體位置 memory address\n",
    "print('id(b)\\t:', id(b), '\\n')  # 記憶體位置 memory address\n",
    "\n",
    "# values\n",
    "print('a\\t=', a)\n",
    "print('b\\t=', b)"
   ]
  },
  {
   "cell_type": "markdown",
   "metadata": {},
   "source": [
    "# 3-4 Python no Boolean.  It is 整數的子型態(subtpye of integers)\n",
    ">## True = 1, False = 0"
   ]
  },
  {
   "cell_type": "code",
   "execution_count": null,
   "metadata": {},
   "outputs": [],
   "source": [
    "1+ True"
   ]
  },
  {
   "cell_type": "code",
   "execution_count": null,
   "metadata": {},
   "outputs": [],
   "source": [
    "1+False"
   ]
  },
  {
   "cell_type": "code",
   "execution_count": null,
   "metadata": {},
   "outputs": [],
   "source": [
    "True + True"
   ]
  },
  {
   "cell_type": "markdown",
   "metadata": {},
   "source": [
    "# 3-5"
   ]
  },
  {
   "cell_type": "code",
   "execution_count": null,
   "metadata": {},
   "outputs": [],
   "source": [
    "print(int(12.6))\n",
    "print(str(12.6))\n",
    "print(float(12))\n",
    "print(complex(12))\n",
    "print(complex(12,3))\n",
    "str(12.6)"
   ]
  },
  {
   "cell_type": "markdown",
   "metadata": {},
   "source": [
    "# 3-6"
   ]
  },
  {
   "cell_type": "markdown",
   "metadata": {},
   "source": [
    ">![binary](.\\img\\binary01.png)"
   ]
  },
  {
   "cell_type": "code",
   "execution_count": null,
   "metadata": {},
   "outputs": [],
   "source": [
    "a = 20; b = 2.; c = 'John'\n",
    "print(F' type(a) = {type(a)}\\n type(b) = {type(b)}\\n type(c) = {type(c)}, \\n')\n",
    "\n",
    "print(f'float\\t\\t: {a:3.2f}')\n",
    "print(f'binary\\t\\t: {a:b}')\n",
    "print(f'octal\\t\\t: {a:o}')\n",
    "print(f'hex\\t\\t: {a:x}\\n')"
   ]
  },
  {
   "cell_type": "code",
   "execution_count": null,
   "metadata": {},
   "outputs": [],
   "source": [
    "a = 7\n",
    "b = a\n",
    "\n",
    "print('id(a)\\t:', id(a))\n",
    "print('id(b)\\t:', id(b), '\\n')\n",
    "\n",
    "b = 20\n",
    "print('id(b)\\t:', id(b))\n",
    "print(id(a) == id(b))\n",
    "# practice "
   ]
  },
  {
   "cell_type": "code",
   "execution_count": null,
   "metadata": {},
   "outputs": [],
   "source": [
    "str(10)+10  # error str + int"
   ]
  },
  {
   "cell_type": "markdown",
   "metadata": {},
   "source": [
    "---"
   ]
  },
  {
   "cell_type": "markdown",
   "metadata": {},
   "source": [
    "# Module_04_Python運算子"
   ]
  },
  {
   "cell_type": "markdown",
   "metadata": {},
   "source": [
    "# 4-3"
   ]
  },
  {
   "cell_type": "code",
   "execution_count": null,
   "metadata": {},
   "outputs": [],
   "source": [
    "x = 2\n",
    "print('x == 2\\t:', x == 2)\n",
    "print('x != 2\\t:', x != 2)\n",
    "print('x < 5\\t:', x < 5)\n",
    "print('x > 2\\t:', x > 2)\n",
    "print('x <= 2\\t:', x <= 2)\n",
    "print('x >= 2\\t:', x >= 2)"
   ]
  },
  {
   "cell_type": "code",
   "execution_count": null,
   "metadata": {},
   "outputs": [],
   "source": [
    "a = 5; b = 7\n",
    "a > b"
   ]
  },
  {
   "cell_type": "markdown",
   "metadata": {},
   "source": [
    "# 4-4"
   ]
  },
  {
   "cell_type": "code",
   "execution_count": null,
   "metadata": {},
   "outputs": [],
   "source": [
    "print('4 <= 6 > 7\\t\\t:', 4 <= 6 > 7)\n",
    "print('4 <= 6 and 6 > 7\\t:', 4<= 6 and 6>7)  # 6 > 7 false\n",
    "5>6>3"
   ]
  },
  {
   "cell_type": "markdown",
   "metadata": {},
   "source": [
    "# 4-5 真值表 (Truth Table)\n",
    "><img src=\".\\img\\truth-Table.png\"  style='height:300px; width:950px'>"
   ]
  },
  {
   "cell_type": "code",
   "execution_count": null,
   "metadata": {},
   "outputs": [],
   "source": [
    "x = True; y = False  # or x = 1; y = 0\n",
    "print('not x\\t\\t:', not x)\n",
    "print('x and y\\t\\t:', x and y)\n",
    "print('x or y\\t\\t:', x or y)\n",
    "print('x ^ y\\t\\t:', x ^ y)\n",
    "\n",
    "# practice"
   ]
  },
  {
   "cell_type": "code",
   "execution_count": null,
   "metadata": {},
   "outputs": [],
   "source": [
    "x = 5 ; y = 6\n",
    "print('x and y\\t:', x and y)        # 若 x 為 Ture 就看 y 的值\n",
    "print('0 and y\\t:', 0 and y)        # 若 x 為 False 就 為 0\n",
    "print('1 and y\\t:', 1 and y, '\\n')  # if x == true then y \n",
    "\n",
    "print('x or y\\t:', x or y)         # if x == trun then x else y\n",
    "print('1 or y\\t:', 1 or y)\n",
    "print('0 or y\\t:', 0 or y, '\\n')\n",
    "\n",
    "print('not x\\t:', not x)\n",
    "print('not y\\t:', not y)"
   ]
  },
  {
   "cell_type": "markdown",
   "metadata": {},
   "source": [
    "# 4-8"
   ]
  },
  {
   "cell_type": "code",
   "execution_count": null,
   "metadata": {},
   "outputs": [],
   "source": [
    "a = 7; b = 8; c = 8\n",
    "print('a == b\\t\\t:', a == b)\n",
    "print('a is b\\t\\t:', a is b)   # memory address\n",
    "print('a is not b\\t:', a is not b, '\\n')  \n",
    "\n",
    "print('a is c\\t\\t:', a is c)\n",
    "print('b is c\\t\\t:', b is c)  # id 相同, value 一定一樣 memory address"
   ]
  },
  {
   "cell_type": "code",
   "execution_count": null,
   "metadata": {},
   "outputs": [],
   "source": [
    "x = 10\n",
    "print('id(x)\\t\\t:', id(x), '\\n')\n",
    "\n",
    "a = x; x = 20                # a = 10, x =20\n",
    "print('id(x)\\t\\t:', id(x))\n",
    "print('x is a\\t\\t:', x is a)\n",
    "print('id(x) == id(a)\\t:', id(x) == id(a), '\\n')\n",
    "\n",
    "y = 10                     # y =10\n",
    "print('a is y\\t\\t:', a is y)  # possible false"
   ]
  },
  {
   "cell_type": "markdown",
   "metadata": {},
   "source": [
    "# 4-9"
   ]
  },
  {
   "cell_type": "code",
   "execution_count": null,
   "metadata": {},
   "outputs": [],
   "source": [
    "x = 99; y = 99\n",
    "\n",
    "print(x == y)\n",
    "print(id(x))\n",
    "print(id(y), '\\n')\n",
    "\n",
    "print(x is y)   # 'is' check memory address\n",
    "id(x) == id(y)"
   ]
  },
  {
   "cell_type": "markdown",
   "metadata": {},
   "source": [
    "# python 在整數 -5 ~ 256 之間，固定記憶體空間"
   ]
  },
  {
   "cell_type": "code",
   "execution_count": null,
   "metadata": {},
   "outputs": [],
   "source": [
    "x = -5; y = -5\n",
    "\n",
    "print(x == y)   # '==' check value\n",
    "print(id(x))\n",
    "print(id(y),'\\n')\n",
    "\n",
    "print(x is y)   # 'is' check memory address\n",
    "id(x) == id(y)"
   ]
  },
  {
   "cell_type": "markdown",
   "metadata": {},
   "source": [
    "# 4-13"
   ]
  },
  {
   "cell_type": "markdown",
   "metadata": {},
   "source": [
    "><img src=\".\\img\\binary.png\"  style='height:350px; width:750px'></img>\n",
    ">### 60|13 == ??\n",
    ">### 60^13 == ??"
   ]
  },
  {
   "cell_type": "code",
   "execution_count": null,
   "metadata": {},
   "outputs": [],
   "source": [
    "k= 60; \n",
    "\n",
    "print(f'binary of k\\t= {k:b}')  # b 二進位\n",
    "\n",
    "print(f'k<<2\\t\\t: {k<<2:b}, 十進位 : {k<<2}')\n",
    "print(f'k>>2\\t\\t: {k>>2:b}    , 十進位 : {k>>2}')\n",
    "\n",
    "print(f'k*(2**2)\\t: {k*(2**2)}')\n",
    "print(f'k/(2**2)\\t: {k/(2**2)} \\n')"
   ]
  },
  {
   "cell_type": "code",
   "execution_count": null,
   "metadata": {},
   "outputs": [],
   "source": [
    "x = 5; y = 6\n",
    "print(f'x:b = {x:b}\\ty:b = {y:b}')\n",
    "print('x & y :', x & y)"
   ]
  },
  {
   "cell_type": "markdown",
   "metadata": {},
   "source": [
    "# 4-16"
   ]
  },
  {
   "cell_type": "markdown",
   "metadata": {},
   "source": [
    "## 運算子優先順序 :\n",
    "https://www.programiz.com/python-programming/precedence-associativity\n",
    "\n",
    ">![OpPriority](.\\img\\OpPriority.png)"
   ]
  },
  {
   "cell_type": "code",
   "execution_count": null,
   "metadata": {},
   "outputs": [],
   "source": [
    "a = 0; b = 9\n",
    "print(f'a = {a},\\tb = {b}')\n",
    "print('a>10|b<15\\t\\t\\t:', a>10|b<15)                          # False    a>10 and 10|b and b<15\n",
    "print('a>10 and 10|b and b<15\\t\\t:', a>10 and 10|b and b<15)             # Fales    0 and 10 and True\n",
    "print('(a>10)|(b<15)\\t\\t\\t:', (a>10)|(b<15) , '\\n')               # True     (0|1)\n",
    "\n",
    "print('a is not b\\t\\t\\t:', (a is not b))                       # True\n",
    "print('a is not b and b & a and a<b\\t:' , a is not b and b & a and a<b, '\\n')# b & a = 0     T and 0 and T\n",
    "\n",
    "print('\"{0:b}\".format(a)\\t\\t:', \"{0:b}\".format(a))                   # 0 b:0000\n",
    "print('\"{0:b}\".format(b)\\t\\t:', \"{0:b}\".format(b))                  # 9 b:1001\n",
    "print('b & a\\t\\t\\t\\t:', b & a)                              # 0 binary\n",
    "print('a|b\\t\\t\\t\\t:', a|b, '\\n')                          # 9\n",
    "\n",
    "print('10|b\\t\\t\\t\\t:', 10|b)                               # 1001 or 1010 等於 1011\n",
    "print('11==10|b\\t\\t\\t:', 11==10|b)                           # True   先算 | 等於11, 再算 11 == 11\n",
    "print('11==10 and 10|b\\t\\t\\t:', 11==10 and 10|b)                    # False  F and 11"
   ]
  },
  {
   "cell_type": "code",
   "execution_count": null,
   "metadata": {},
   "outputs": [],
   "source": [
    "print('3|9\\t\\t:', 3|9)\n",
    "print('2<3|9<15\\t:', 2<3|9<15)   # 2<3:T,  3|9=11 not 0: T,  9<15 : T\n",
    "print('2>3|9<15\\t:', 2>3|9<15)"
   ]
  },
  {
   "cell_type": "markdown",
   "metadata": {},
   "source": [
    "---"
   ]
  },
  {
   "cell_type": "markdown",
   "metadata": {},
   "source": [
    "# Module_05_Python文字資料型態與成員運算子"
   ]
  },
  {
   "cell_type": "markdown",
   "metadata": {},
   "source": [
    "# 5-3 index"
   ]
  },
  {
   "cell_type": "markdown",
   "metadata": {},
   "source": [
    ">![StrIndex](.\\img\\strindex01.png)"
   ]
  },
  {
   "cell_type": "code",
   "execution_count": null,
   "metadata": {},
   "outputs": [],
   "source": [
    "var1 = 'Hello World!'\n",
    "\n",
    "print('var1[:6]\\t:', var1[:6])  # inc. space index[5]\n",
    "print('var1[0]\\t\\t:', var1[0])\n",
    "print('var1[1:5]\\t:', var1[1:5])\n",
    "print('var1[-1]\\t:', var1[-1])\n",
    "print('var1[3:-2]\\t:', var1[3:-2])\n",
    "print('var1[3:-2:2]\\t:', var1[3:-2:2])\n",
    "print('var1[::2]\\t:', var1[::2],'\\n')\n",
    "\n",
    "var2 = var1[:6]*6+ \"Python\"\n",
    "print(var2)"
   ]
  },
  {
   "cell_type": "markdown",
   "metadata": {},
   "source": [
    "# str 不可改變"
   ]
  },
  {
   "cell_type": "code",
   "execution_count": null,
   "metadata": {},
   "outputs": [],
   "source": [
    "var1[4]='W'  # error"
   ]
  },
  {
   "cell_type": "code",
   "execution_count": null,
   "metadata": {},
   "outputs": [],
   "source": [
    "a = 'this is a string'\n",
    "print('a\\t=', a)\n",
    "print('a[10]\\t:', a[10])\n",
    "# a[10] = 'f'\n",
    "b = a.replace('string', 'longer string')\n",
    "b"
   ]
  },
  {
   "cell_type": "code",
   "execution_count": null,
   "metadata": {},
   "outputs": [],
   "source": [
    "#\\n  \\t\n",
    "print('This is a long string\\t that contains several lines and\\n some non-printable \\\\character')"
   ]
  },
  {
   "cell_type": "code",
   "execution_count": null,
   "metadata": {},
   "outputs": [],
   "source": [
    "print('c:/test/app')\n",
    "print('c:\\\\test\\\\app')\n",
    "print('c:\\test/app')"
   ]
  },
  {
   "cell_type": "code",
   "execution_count": null,
   "metadata": {},
   "outputs": [],
   "source": [
    "text_para = 'This is a long string that contains\n",
    "several lines and some non-printable characters, \n",
    "such as TAB(\\t) or NEWLINE(\\n). For triple-quoted strings, \n",
    "always use double quote characters to be consistent \n",
    "with the docstring convention in PEP 257.'\n",
    "\n",
    "text_para   # error. no \\ or '''      '''"
   ]
  },
  {
   "cell_type": "code",
   "execution_count": null,
   "metadata": {},
   "outputs": [],
   "source": [
    "text_para = 'This is a long string that contains \\\n",
    "several lines and some non-printable characters, \\\n",
    "such as TAB(\\t) or NEWLINE(\\n). For triple-quoted strings, \\\n",
    "always use double quote characters to be consistent \\\n",
    "with the docstring convention in PEP 257.'\n",
    "\n",
    "text_para   # "
   ]
  },
  {
   "cell_type": "code",
   "execution_count": null,
   "metadata": {},
   "outputs": [],
   "source": [
    "text_para = \"\"\"This is a long string that contains\n",
    "several lines and some non-printable characters, \n",
    "such as TAB(\\t) or NEWLINE(\\n). For triple-quoted strings, \n",
    "always use double quote characters to be consistent \n",
    "with the docstring convention in PEP 257.\"\"\"\n",
    "print(text_para, len(text_para), '\\n')\n",
    "\n",
    "# string count\n",
    "print(\"text_para.count('a') : \", text_para.count('a'))    # total count\n",
    "print(\"text_para.count('is') :\", text_para.count('is'))   # total count\n",
    "print(\"text_para.find('is')  :\", text_para.find('is'))    # first position\n",
    "print(\"text_para.rfind('is') :\", text_para.rfind('is'))   # last position\n",
    "# practice"
   ]
  },
  {
   "cell_type": "markdown",
   "metadata": {},
   "source": [
    "## 5-9"
   ]
  },
  {
   "cell_type": "code",
   "execution_count": null,
   "metadata": {},
   "outputs": [],
   "source": [
    "x = 3; y = [1, 2, 3, 4, 5]\n",
    "\n",
    "print(x in y)\n",
    "print(x not in y)"
   ]
  },
  {
   "cell_type": "code",
   "execution_count": null,
   "metadata": {},
   "outputs": [],
   "source": [
    "a = 'Hello World'; b = 'Hello  '\n",
    "\n",
    "print(b in a)"
   ]
  },
  {
   "cell_type": "markdown",
   "metadata": {},
   "source": [
    "## 5-11"
   ]
  },
  {
   "cell_type": "code",
   "execution_count": null,
   "metadata": {},
   "outputs": [],
   "source": [
    "a = 'Hello'; b = 'Python'; c = 3\n",
    "\n",
    "print(f'a = {a}\\tb = {b}\\t   c ={c}')\n",
    "\n",
    "print('a+b\\t\\t:', a+b)\n",
    "print('a*8\\t\\t:', a*8)\n",
    "print(\"'H' in a\\t:\",'H' in a)\n",
    "print(\"'m' not in a\\t:\", 'm' not in a) \n",
    "print('len(a)\\t\\t:', len(a))"
   ]
  },
  {
   "cell_type": "code",
   "execution_count": null,
   "metadata": {},
   "outputs": [],
   "source": [
    "print('Hello '+str(c))\n",
    "print('Hello'+ c)  # error"
   ]
  },
  {
   "cell_type": "markdown",
   "metadata": {},
   "source": [
    "# 5-12"
   ]
  },
  {
   "cell_type": "code",
   "execution_count": null,
   "metadata": {},
   "outputs": [],
   "source": [
    "l = 'the zen of python'\n",
    "print(f'l\\t\\t= {l}')\n",
    "print(f'upper\\t\\t: {l.upper()}')\n",
    "print(f'lower\\t\\t: {l.lower()}')\n",
    "print(f'capitalize\\t: {l.capitalize()}')\n",
    "print(f'title\\t\\t: {l.title()}')\n",
    "print(f'swapcase\\t: {l.swapcase()}\\n')  # upper -> lower,  lower -> upper\n",
    "\n",
    "print(f'endswith(\"on\")\\t: {l.endswith(\"on\")}')        #True\n",
    "print(f'startswith(\"on\")\\t:{l.startswith(\"the\")}')        #True"
   ]
  },
  {
   "cell_type": "code",
   "execution_count": null,
   "metadata": {},
   "outputs": [],
   "source": [
    "a = 'hello123'\n",
    "\n",
    "print('a.isalpha()\\t:', a.isalpha())\n",
    "print('a.isspace()\\t:', a.isspace())\n",
    "\n",
    "print('a.isupper()\\t:', a.isupper())\n",
    "print('a.islower()\\t:', a.islower())\n",
    "\n",
    "print('a.isdigit()\\t:', a.isdigit())\n",
    "print('a isinstance()\\t:', isinstance(a, (int, float, str)))\n",
    "print('k.isalnum()\\t:', a.isalnum())"
   ]
  },
  {
   "cell_type": "code",
   "execution_count": null,
   "metadata": {},
   "outputs": [],
   "source": [
    "str1 = ' h e l l o'\n",
    "str1.replace(' ', '')"
   ]
  },
  {
   "cell_type": "markdown",
   "metadata": {},
   "source": [
    "## 5-14"
   ]
  },
  {
   "cell_type": "code",
   "execution_count": null,
   "metadata": {},
   "outputs": [],
   "source": [
    "word = '  #### this is a book ####   '\n",
    "print(word.rstrip())\n",
    "print(word.lstrip())\n",
    "print(word.strip())\n",
    "\n",
    "word = '#### this is a book ####'\n",
    "print(word.strip('#'))\n",
    "print(word.strip('#').strip())"
   ]
  },
  {
   "cell_type": "code",
   "execution_count": null,
   "metadata": {},
   "outputs": [],
   "source": [
    "data = \"From:User Lee (user@company.com) Sat Jan 5 09:14:16 2016\"\n",
    "print(data.split())\n",
    "print(data.split(' ')) # how about : or o....else\n",
    "print(data.split()[2])"
   ]
  },
  {
   "cell_type": "markdown",
   "metadata": {},
   "source": [
    "---"
   ]
  },
  {
   "cell_type": "markdown",
   "metadata": {},
   "source": [
    "# Module_06_基本輸入與輸出"
   ]
  },
  {
   "cell_type": "markdown",
   "metadata": {},
   "source": [
    "# 6-3\n",
    ">## 基本輸入裝置 : 鍵盤 keyboard\n",
    ">## 基本輸出裝置 : 螢幕 monitor"
   ]
  },
  {
   "cell_type": "markdown",
   "metadata": {},
   "source": [
    "### 所有 OS 在啟動時, 都會開啟 3 個檔案 :\n",
    ">### standard out (stdout) -- your screen >> Java : system.out\n",
    ">### stand input  (stdin)-- your keyboard   >> Java : system.in\n",
    ">### standard error(stderr) -- sreen    >>   java : system.err"
   ]
  },
  {
   "cell_type": "code",
   "execution_count": null,
   "metadata": {},
   "outputs": [],
   "source": [
    "x = 3\n",
    "# python2\n",
    "# print'x is' + str(x)\n",
    "\n",
    "#python 3\n",
    "print('x is\\t:', x)\n",
    "print('x is\\t:'+str(x))\n",
    "print(f'x is\\t: {x}\\n')\n",
    "\n",
    "input('x = ')"
   ]
  },
  {
   "cell_type": "markdown",
   "metadata": {},
   "source": [
    "# 6-4"
   ]
  },
  {
   "cell_type": "code",
   "execution_count": null,
   "metadata": {},
   "outputs": [],
   "source": [
    "# eval(5**30)  # error : shall be string\n",
    "eval('5**30') # correct\n",
    "\n",
    "num= eval(input('input number (ex. 5*6 or 9/4):'))  # like 3*5\n",
    "num   # it is a number"
   ]
  },
  {
   "cell_type": "markdown",
   "metadata": {},
   "source": [
    "### %[optional][寬度](digit, float, string)"
   ]
  },
  {
   "cell_type": "code",
   "execution_count": null,
   "metadata": {},
   "outputs": [],
   "source": [
    "a = 4321; b = 3.1415926; c = 'abcd'\n",
    "\n",
    "print('a=%d'%a)    # without space\n",
    "print('a=% d'%a)   # with space\n",
    "print('a=%10d'%a)\n",
    "print('a=% 3d'%a,'\\n')\n",
    "\n",
    "print('b=%f' %b)\n",
    "print('b=%3.4f' %b)\n",
    "print('b=%2.1f' %b)\n",
    "print('b=%010.3f' %b,'\\n')\n",
    "\n",
    "print('c=%s' %c)\n",
    "print('c= %s' %c)\n",
    "print('c=  %s' %c)"
   ]
  },
  {
   "cell_type": "markdown",
   "metadata": {},
   "source": [
    "# 6-7\n",
    "### f-string :　f'{ 變數 : [填補字元] [靠左<, 靠右>] [寬度][b/f/...] }'"
   ]
  },
  {
   "cell_type": "code",
   "execution_count": null,
   "metadata": {},
   "outputs": [],
   "source": [
    "name = 'III'; est  = 1979\n",
    "\n",
    "print('{0} was established in {1}'.format(name, est)) \n",
    "print('{1} was established in {0}'.format(name, est)) \n",
    "\n",
    "print(f'{name} was established in {est}.') \n",
    "print(f'{2*37}')\n",
    "print(f'{2*37:0>10.3f}')"
   ]
  },
  {
   "cell_type": "code",
   "execution_count": null,
   "metadata": {},
   "outputs": [],
   "source": [
    "name = 'III'; est = 1979\n",
    "\n",
    "%timeit f'{name} was established in {est}'  # faster\n",
    "%timeit name+'was establihed'+str(est)      # slower"
   ]
  },
  {
   "cell_type": "code",
   "execution_count": null,
   "metadata": {},
   "outputs": [],
   "source": [
    "a=4321; b=3.456; c='abcd'\n",
    "\n",
    "print(f'a={a:0<10d}')  # a 整數\n",
    "print(f'a={a:0>10d}') \n",
    "\n",
    "print(f'b={b:0>10f}') \n",
    "print(f'c={c:0>10}') "
   ]
  },
  {
   "cell_type": "code",
   "execution_count": null,
   "metadata": {},
   "outputs": [],
   "source": [
    "# 字串格式化\n",
    "print('0         1         2         ')\n",
    "print('123456789012345678901234567890')\n",
    "num = 12.56789\n",
    "print(f'num\\t: {num}')\n",
    "print(f'06.2f\\t: {num:06.2f}')\n",
    "print(f'.0f\\t: {num:.0f}')\n",
    "print(f'3.2f\\t: {num: 3.2f}')\n",
    "print(f'>5\\t: {num: >15}')  #靠右\n",
    "print(f'<5\\t: {num: <15}')  #靠左\n",
    "\n",
    "print(f'88:b\\t: {88:b}')"
   ]
  },
  {
   "cell_type": "markdown",
   "metadata": {},
   "source": [
    "## 6-9"
   ]
  },
  {
   "cell_type": "code",
   "execution_count": null,
   "metadata": {},
   "outputs": [],
   "source": [
    "# (), [], {} 可換行 \n",
    "\n",
    "name = 'III'; prof = 'scientist'; lang = 'Python'\n",
    "message = (\n",
    "    f'Hi {name}.'\n",
    "    f'You are a {prof}. ' \n",
    "    f'You like {lang}.' \n",
    ")\n",
    "message"
   ]
  },
  {
   "cell_type": "markdown",
   "metadata": {},
   "source": [
    "## 6-10"
   ]
  },
  {
   "cell_type": "code",
   "execution_count": null,
   "metadata": {},
   "outputs": [],
   "source": [
    "data=12.345678\n",
    "# default decimal 6 digits\n",
    "print('data = ', data, '\\n')\n",
    "print(f'data  4.0f = {data:4.0f}')\n",
    "print(f'data 04.0f = {data:04.0f}')\n",
    "print(f'data  5.2f = {data:5.2f}')\n",
    "print(f'data 06.2f = {data:06.2f}')\n",
    "print(f'data  3.2f = {data:3.2f}')\n",
    "print(f'data   .2f = {data:.2f}')"
   ]
  },
  {
   "cell_type": "code",
   "execution_count": null,
   "metadata": {},
   "outputs": [],
   "source": [
    "from datetime import datetime, date, time\n",
    "\n",
    "dt = datetime(2011, 10, 29, 20, 30, 21)\n",
    "# ok, f'{datetime(2001, 2, 3, 4, 5):%Y/%m/%d}' \u000b",
    "'2001/02/03' \n",
    "# batter :f'{datetime(2001, 2, 3, 4, 5):%Y-%m-%d %H:%M:%S}' \n",
    "\n",
    "print('dt\\t\\t:', dt, ', timestamp : ', dt.timestamp())\n",
    "print('dt.day\\t\\t:', dt.day)\n",
    "print('dt.minute\\t:', dt.minute,'\\n')\n",
    "\n",
    "print('dt.date()\\t:', dt.date())\n",
    "print('dt.time()\\t:', dt.time(),'\\n')\n",
    "\n",
    "print(\"dt.strftime('%m/%d/%Y %H:%M')\\t\\t:\", dt.strftime('%m/%d/%Y %H:%M'))\n",
    "print(\"datetime.strptime('20091031', '%Y%m%d')\\t:\", datetime.strptime('20091031', '%Y%m%d'))\n",
    "print('dt.replace(minute=0, second=0)\\t\\t:', dt.replace(minute=0, second=0),'\\n')"
   ]
  },
  {
   "cell_type": "code",
   "execution_count": null,
   "metadata": {},
   "outputs": [],
   "source": [
    "dt2 = datetime(2011, 11, 15, 22, 30)\n",
    "print('dt = ', dt,', dt2 = ', dt2, '\\n')\n",
    "\n",
    "delta = dt2 - dt\n",
    "print('dt2 - dt\\t\\t=', delta,'\\n')\n",
    "\n",
    "print('type(delta)\\t\\t:', type(delta))\n",
    "print('dt  + delta = dt2\\t:', dt + delta)"
   ]
  },
  {
   "cell_type": "markdown",
   "metadata": {},
   "source": [
    "# 6-12"
   ]
  },
  {
   "cell_type": "code",
   "execution_count": null,
   "metadata": {},
   "outputs": [],
   "source": [
    "data = {'name': 'III', 'est': 40}   # dict\n",
    "    \n",
    "print(data['name'], data['est'])\n",
    "print(\"The name is {}, aged {}.\".format(data['name'],data['est']))\n",
    "print(f\"The name is {data['name']}, aged {data['est']}.\\n\") \n",
    "\n",
    "name = 'III'\n",
    "est  = 1979\n",
    "\n",
    "print('The name is %s, aged %d' % (name,est))\n",
    "print(\"The name is {}, aged {}.\".format(name,est))\n",
    "print(\"The name is {0}, aged {1}.\".format(name,est))\n",
    "print(\"The name is {1}, aged {0}.\".format(name,est))"
   ]
  },
  {
   "cell_type": "code",
   "execution_count": null,
   "metadata": {},
   "outputs": [],
   "source": [
    "data = 12.34567\n",
    "%timeit f'data is {data}'\n",
    "%timeit 'data is {}'.format(data)\n",
    "%timeit 'data is %.3f' % (data)"
   ]
  },
  {
   "cell_type": "markdown",
   "metadata": {},
   "source": [
    "# The END of Day 1\n",
    "---"
   ]
  },
  {
   "cell_type": "markdown",
   "metadata": {},
   "source": [
    "# 輕鬆欣賞一下"
   ]
  },
  {
   "cell_type": "code",
   "execution_count": null,
   "metadata": {},
   "outputs": [],
   "source": [
    "# pip install matplotlib   # 回到 windows power shall 中打 pip install matplotlib\n",
    "import matplotlib.pyplot as plt \n",
    "  \n",
    "# x-coordinates of left sides of bars  \n",
    "left = [1, 2, 3, 4, 5] \n",
    "  \n",
    "# heights of bars \n",
    "height = [10, 24, 36, 40, 5] \n",
    "  \n",
    "# labels for bars \n",
    "tick_label = ['one', 'two', 'three', 'four', 'five'] \n",
    "  \n",
    "# plotting a bar chart \n",
    "plt.bar(left, height, tick_label = tick_label, \n",
    "        width = 0.8, color = ['red', 'green']) \n",
    "  \n",
    "# naming the x-axis \n",
    "plt.xlabel('x - axis') \n",
    "# naming the y-axis \n",
    "plt.ylabel('y - axis') \n",
    "# plot title \n",
    "plt.title('My bar chart!') \n",
    "  \n",
    "# function to show the plot \n",
    "plt.show()"
   ]
  },
  {
   "cell_type": "code",
   "execution_count": null,
   "metadata": {},
   "outputs": [],
   "source": [
    "# defining labels \n",
    "activities = ['eat', 'sleep', 'work', 'play'] \n",
    "  \n",
    "# portion covered by each label \n",
    "slices = [3, 7, 8, 6] \n",
    "  \n",
    "# color for each label \n",
    "colors = ['r', 'y', 'g', 'b'] \n",
    "  \n",
    "# plotting the pie chart \n",
    "plt.pie(slices, labels = activities, colors=colors,  \n",
    "        startangle=90, shadow = True, explode = (0, 0, 0.1, 0), \n",
    "        radius = 1.2, autopct = '%1.1f%%') \n",
    "  \n",
    "# plotting legend \n",
    "plt.legend() \n",
    "  \n",
    "# showing the plot \n",
    "plt.show() "
   ]
  },
  {
   "cell_type": "code",
   "execution_count": null,
   "metadata": {},
   "outputs": [],
   "source": [
    "names = ['a', 'b', 'c', 'd']\n",
    "values = [1, 10, 100, 80]\n",
    "\n",
    "plt.figure(figsize=(15, 4))\n",
    "\n",
    "plt.subplot(131)\n",
    "plt.bar(names, values)\n",
    "plt.subplot(132)\n",
    "plt.scatter(names, values)\n",
    "plt.subplot(133)\n",
    "plt.plot(names, values)\n",
    "plt.suptitle('Categorical Plotting')\n",
    "plt.show()"
   ]
  },
  {
   "cell_type": "code",
   "execution_count": null,
   "metadata": {},
   "outputs": [],
   "source": []
  }
 ],
 "metadata": {
  "kernelspec": {
   "display_name": "Python 3",
   "language": "python",
   "name": "python3"
  },
  "language_info": {
   "codemirror_mode": {
    "name": "ipython",
    "version": 3
   },
   "file_extension": ".py",
   "mimetype": "text/x-python",
   "name": "python",
   "nbconvert_exporter": "python",
   "pygments_lexer": "ipython3",
   "version": "3.8.2"
  }
 },
 "nbformat": 4,
 "nbformat_minor": 4
}
